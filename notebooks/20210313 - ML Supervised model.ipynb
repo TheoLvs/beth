{
 "cells": [
  {
   "cell_type": "code",
   "execution_count": 106,
   "metadata": {
    "ExecuteTime": {
     "end_time": "2021-03-13T17:19:08.515172Z",
     "start_time": "2021-03-13T17:19:08.233108Z"
    }
   },
   "outputs": [
    {
     "name": "stdout",
     "output_type": "stream",
     "text": [
      "The autoreload extension is already loaded. To reload it, use:\n",
      "  %reload_ext autoreload\n"
     ]
    }
   ],
   "source": [
    "# Base Data Science snippet\n",
    "import pandas as pd\n",
    "import numpy as np\n",
    "import matplotlib.pyplot as plt\n",
    "import os\n",
    "import time\n",
    "from tqdm import tqdm_notebook\n",
    "\n",
    "%matplotlib inline\n",
    "%load_ext autoreload\n",
    "%autoreload 2\n",
    "\n",
    "pd.set_option('display.max_rows', 500)\n",
    "pd.set_option('display.max_columns', 500)\n",
    "pd.set_option('display.width', 1000)\n",
    "\n",
    "from comet_ml import Experiment"
   ]
  },
  {
   "cell_type": "code",
   "execution_count": 107,
   "metadata": {
    "ExecuteTime": {
     "end_time": "2021-03-13T17:19:08.833203Z",
     "start_time": "2021-03-13T17:19:08.517177Z"
    }
   },
   "outputs": [],
   "source": [
    "import sys\n",
    "sys.path.append(\"../\")\n",
    "\n",
    "from beth import Game,RandomPlayer,HumanPlayer\n",
    "from beth.move import Move\n",
    "from beth.board import Board\n",
    "from beth.ai import TreeSearchAI,StockfishAI\n",
    "from beth.tree import TreeSearch"
   ]
  },
  {
   "cell_type": "markdown",
   "metadata": {},
   "source": [
    "# Playground"
   ]
  },
  {
   "cell_type": "code",
   "execution_count": 407,
   "metadata": {
    "ExecuteTime": {
     "end_time": "2021-03-03T15:28:06.165553Z",
     "start_time": "2021-03-03T15:28:05.675432Z"
    }
   },
   "outputs": [],
   "source": [
    "stockfish_path = \"C:/Users/talvesdacosta/Downloads/stockfish_13_win_x64/stockfish_13_win_x64/stockfish_13_win_x64.exe\""
   ]
  },
  {
   "cell_type": "code",
   "execution_count": 64,
   "metadata": {
    "ExecuteTime": {
     "end_time": "2021-03-03T01:50:13.186919Z",
     "start_time": "2021-03-03T01:50:13.020922Z"
    }
   },
   "outputs": [
    {
     "data": {
      "text/plain": [
       "[4.0,\n",
       " -5.0,\n",
       " 2.0,\n",
       " -5.0,\n",
       " 5.0,\n",
       " -4.0,\n",
       " 4.0,\n",
       " -4.0,\n",
       " -1.5,\n",
       " -3.5,\n",
       " 5.5,\n",
       " -2.0,\n",
       " 1.5,\n",
       " -2.0,\n",
       " 1.5,\n",
       " -1.0,\n",
       " 6.0,\n",
       " -5.5,\n",
       " 3.0,\n",
       " -3.0,\n",
       " 1.0,\n",
       " -6.0,\n",
       " 7.0,\n",
       " 0.0,\n",
       " 3.0,\n",
       " -2.0,\n",
       " 5.0,\n",
       " -1.0]"
      ]
     },
     "execution_count": 64,
     "metadata": {},
     "output_type": "execute_result"
    }
   ],
   "source": [
    "# AIs\n",
    "black = TreeSearchAI(depth = 5,breadth = 10,max_time = 5)\n",
    "# black = TreeSearchAI(depth = 3,wait = 0.5,breadth = 10)\n",
    "# # black = StockfishAI(stockfish_path,elo=1350)\n",
    "# white = StockfishAI(stockfish_path,level=1,limit = 0.01)\n",
    "# black = StockfishAI(stockfish_path,level=1,limit = 0.01)\n",
    "\n",
    "\n",
    "# # Humans\n",
    "white = HumanPlayer()\n",
    "# black = HumanPlayer()\n",
    "\n",
    "# Init and run the game\n",
    "game = Game(white,black)\n",
    "game.move(x)"
   ]
  },
  {
   "cell_type": "markdown",
   "metadata": {},
   "source": [
    "# Playground ML"
   ]
  },
  {
   "cell_type": "code",
   "execution_count": 3,
   "metadata": {
    "ExecuteTime": {
     "end_time": "2021-03-13T16:24:07.946804Z",
     "start_time": "2021-03-13T16:24:07.760457Z"
    }
   },
   "outputs": [],
   "source": [
    "moves = \"\"\"1.e4 e5 2.Nf3 Nc6 3.Bb5 a6 4.Ba4 Nf6 5.O-O Be7 6.Re1 b5 7.Bb3\n",
    "d6 8.c3 O-O 9.h3 Nb8 10.d4 Nbd7 11.Nbd2 Bb7 12.Bc2 Re8 13.Nf1\n",
    "Bf8 14.Ng3 g6 15.Bg5 h6 16.Bd2 exd4 17.cxd4 c5 18.d5 Nb6 19.Ba5\n",
    "Nfd7 20.b3 Bg7 21.Rc1 Qf6 22.Rb1 b4 23.Ne2 Qe7 24.a3 bxa3 25.Bc3\n",
    "f5 26.Bxg7 Qxg7 27.Nf4 fxe4 28.Nh4 g5 29.Ne6 Qf6 30.Qg4 Nxd5\n",
    "31.Nxg5 hxg5 32.Qxd7 Nb4 33.Qxb7 Nxc2 34.Rxe4 a2 35.Rf1 Nb4 36.Rg4\n",
    "a1Q 37.Rxa1 Qxa1+ 38.Kh2 Qg7 39.Qf3 Qe5+ 40.g3 Rf8 41.Qg2 Qf6\n",
    "42.f4 Ra7 43.Rxg5+ Rg7 44.Rh5 Qe6 45.g4 Rxf4\"\"\""
   ]
  },
  {
   "cell_type": "code",
   "execution_count": 4,
   "metadata": {
    "ExecuteTime": {
     "end_time": "2021-03-13T16:24:08.090807Z",
     "start_time": "2021-03-13T16:24:07.948804Z"
    }
   },
   "outputs": [],
   "source": [
    "import re\n",
    "\n",
    "def pgn_moves_to_moves(x):\n",
    "    return re.sub(\"\\d+[.]\", '', x).strip()"
   ]
  },
  {
   "cell_type": "code",
   "execution_count": 105,
   "metadata": {
    "ExecuteTime": {
     "end_time": "2021-03-13T17:19:05.845099Z",
     "start_time": "2021-03-13T17:19:05.556782Z"
    }
   },
   "outputs": [],
   "source": [
    "import chess.pgn\n",
    "from beth.board import Board"
   ]
  },
  {
   "cell_type": "code",
   "execution_count": 6,
   "metadata": {
    "ExecuteTime": {
     "end_time": "2021-03-13T16:24:21.667643Z",
     "start_time": "2021-03-13T16:24:21.517644Z"
    }
   },
   "outputs": [],
   "source": [
    "def parse_pgn_game_to_tensors(game):\n",
    "    \n",
    "    boards = []\n",
    "    moves = []\n",
    "    board = game.board()\n",
    "    \n",
    "    for move in game.mainline_moves():\n",
    "        array = Board(board.board_fen()).to_array()\n",
    "        boards.append(array)\n",
    "        moves.append((move.from_square,move.to_square))\n",
    "        board.push(move)\n",
    "        \n",
    "    return boards,moves\n",
    "\n",
    "def one_hot_moves(moves):\n",
    "    moves = np.array(moves)\n",
    "    moves_one_hot = np.zeros((*moves.shape,64))\n",
    "    moves_one_hot[np.arange(len(moves)),0,moves[:,0]] = 1\n",
    "    moves_one_hot[np.arange(len(moves)),1,moves[:,1]] = 1\n",
    "    return moves_one_hot\n",
    "\n",
    "def parse_pgn_games_for_ml(pgn_path,n = 100):\n",
    "    boards = []\n",
    "    moves = []\n",
    "    i = 0\n",
    "    \n",
    "    pgn = open(pgn_path)\n",
    "    \n",
    "    while True:\n",
    "        try:\n",
    "            game = chess.pgn.read_game(pgn)\n",
    "            boards_game,moves_game = parse_pgn_game_to_tensors(game)\n",
    "            boards.extend(boards_game)\n",
    "            moves.extend(moves_game)\n",
    "\n",
    "            i += 1\n",
    "\n",
    "            if i == n:\n",
    "                break\n",
    "        except:\n",
    "            break\n",
    "            \n",
    "    boards = np.stack(boards)\n",
    "    moves = one_hot_moves(moves)\n",
    "    return boards,moves"
   ]
  },
  {
   "cell_type": "code",
   "execution_count": 108,
   "metadata": {
    "ExecuteTime": {
     "end_time": "2021-03-13T17:19:41.941801Z",
     "start_time": "2021-03-13T17:19:29.550715Z"
    }
   },
   "outputs": [],
   "source": [
    "boards,moves = parse_pgn_games_for_ml(\"../data/raw/lichess/lichess_db_standard_rated_2013-01.pgn\",n = 500)"
   ]
  },
  {
   "cell_type": "code",
   "execution_count": 128,
   "metadata": {
    "ExecuteTime": {
     "end_time": "2021-03-13T15:31:04.370859Z",
     "start_time": "2021-03-13T15:31:03.068582Z"
    }
   },
   "outputs": [],
   "source": [
    "np.save(\"../data/processed/lichess/boards_lichess1.npy\",boards)"
   ]
  },
  {
   "cell_type": "code",
   "execution_count": 129,
   "metadata": {
    "ExecuteTime": {
     "end_time": "2021-03-13T15:31:59.656218Z",
     "start_time": "2021-03-13T15:31:59.272921Z"
    }
   },
   "outputs": [],
   "source": [
    "np.save(\"../data/processed/lichess/moves_lichess1.npy\",moves)"
   ]
  },
  {
   "cell_type": "markdown",
   "metadata": {},
   "source": [
    "## Desining the architecture"
   ]
  },
  {
   "cell_type": "code",
   "execution_count": 127,
   "metadata": {
    "ExecuteTime": {
     "end_time": "2021-03-13T19:34:06.412577Z",
     "start_time": "2021-03-13T19:34:05.473461Z"
    }
   },
   "outputs": [],
   "source": [
    "import tensorflow as tf\n",
    "from tensorflow.keras.layers import Dense, Flatten, Conv2D,Concatenate\n",
    "from tensorflow.keras import Model\n",
    "from tensorflow.keras.optimizers import Adam"
   ]
  },
  {
   "cell_type": "code",
   "execution_count": 169,
   "metadata": {
    "ExecuteTime": {
     "end_time": "2021-03-13T20:07:08.361684Z",
     "start_time": "2021-03-13T20:07:07.806168Z"
    }
   },
   "outputs": [],
   "source": [
    "class SimpleSupervisedLearningModel(Model):\n",
    "  def __init__(self):\n",
    "    super().__init__()\n",
    "    self.conv1 = Conv2D(10, 3, activation='relu',padding = \"same\")\n",
    "    self.flatten = Flatten()\n",
    "    self.d1 = Dense(128, activation='relu')\n",
    "    self.d2 = Dense(64,activation = \"sigmoid\")\n",
    "    self.d3 = Dense(64,activation = \"sigmoid\")\n",
    "\n",
    "  def call(self, x):\n",
    "    x = self.conv1(x)\n",
    "    x = self.flatten(x)\n",
    "    x = self.d1(x)\n",
    "    from_square = self.d2(x)\n",
    "    to_square = self.d3(x)\n",
    "    \n",
    "    pred = tf.concat([\n",
    "        from_square[:,tf.newaxis,:],\n",
    "        to_square[:,tf.newaxis,:],\n",
    "    ],axis = 1)\n",
    "    \n",
    "    return pred\n",
    "\n",
    "loss_object = tf.keras.losses.CategoricalCrossentropy(from_logits=True)\n",
    "\n",
    "def loss_fn(y_true,y_pred):\n",
    "    # training=training is needed only if there are layers with different\n",
    "    # behavior during training versus inference (e.g. Dropout).\n",
    "    \n",
    "    from_loss = loss_object(y_true[:,0,:],y_pred[:,0,:])\n",
    "    to_loss = loss_object(y_true[:,1,:],y_pred[:,1,:])\n",
    "    \n",
    "    return from_loss + to_loss\n",
    "\n",
    "optimizer = Adam(learning_rate=0.001)\n",
    "\n",
    "\n",
    "model = SimpleSupervisedLearningModel()\n",
    "model.compile(loss=loss_fn, optimizer=optimizer,metrics = [\"accuracy\"])"
   ]
  },
  {
   "cell_type": "code",
   "execution_count": 170,
   "metadata": {
    "ExecuteTime": {
     "end_time": "2021-03-13T20:11:24.948734Z",
     "start_time": "2021-03-13T20:07:24.216394Z"
    }
   },
   "outputs": [
    {
     "name": "stdout",
     "output_type": "stream",
     "text": [
      "Epoch 1/50\n",
      "849/849 [==============================] - 7s 7ms/step - loss: 8.0561 - accuracy: 0.0409 - val_loss: 7.7230 - val_accuracy: 0.0733\n",
      "Epoch 2/50\n",
      "849/849 [==============================] - 5s 6ms/step - loss: 7.6494 - accuracy: 0.0800 - val_loss: 7.5726 - val_accuracy: 0.0857\n",
      "Epoch 3/50\n",
      "849/849 [==============================] - 5s 6ms/step - loss: 7.4970 - accuracy: 0.0888 - val_loss: 7.5292 - val_accuracy: 0.0936\n",
      "Epoch 4/50\n",
      "849/849 [==============================] - 5s 6ms/step - loss: 7.4162 - accuracy: 0.0941 - val_loss: 7.5045 - val_accuracy: 0.0925\n",
      "Epoch 5/50\n",
      "849/849 [==============================] - 5s 6ms/step - loss: 7.3525 - accuracy: 0.0978 - val_loss: 7.4896 - val_accuracy: 0.0893\n",
      "Epoch 6/50\n",
      "849/849 [==============================] - 5s 6ms/step - loss: 7.3106 - accuracy: 0.1047 - val_loss: 7.4970 - val_accuracy: 0.0950\n",
      "Epoch 7/50\n",
      "849/849 [==============================] - 5s 6ms/step - loss: 7.2745 - accuracy: 0.1035 - val_loss: 7.4687 - val_accuracy: 0.0926\n",
      "Epoch 8/50\n",
      "849/849 [==============================] - 5s 6ms/step - loss: 7.2377 - accuracy: 0.1058 - val_loss: 7.4704 - val_accuracy: 0.0978\n",
      "Epoch 9/50\n",
      "849/849 [==============================] - 5s 6ms/step - loss: 7.2224 - accuracy: 0.1113 - val_loss: 7.4823 - val_accuracy: 0.1031\n",
      "Epoch 10/50\n",
      "849/849 [==============================] - 5s 5ms/step - loss: 7.1908 - accuracy: 0.1115 - val_loss: 7.4710 - val_accuracy: 0.0976\n",
      "Epoch 11/50\n",
      "849/849 [==============================] - 4s 5ms/step - loss: 7.1754 - accuracy: 0.1137 - val_loss: 7.4757 - val_accuracy: 0.0950\n",
      "Epoch 12/50\n",
      "849/849 [==============================] - 4s 5ms/step - loss: 7.1544 - accuracy: 0.1137 - val_loss: 7.4782 - val_accuracy: 0.1059\n",
      "Epoch 13/50\n",
      "849/849 [==============================] - 5s 5ms/step - loss: 7.1314 - accuracy: 0.1194 - val_loss: 7.4845 - val_accuracy: 0.1018\n",
      "Epoch 14/50\n",
      "849/849 [==============================] - 4s 5ms/step - loss: 7.1149 - accuracy: 0.1196 - val_loss: 7.4861 - val_accuracy: 0.0983\n",
      "Epoch 15/50\n",
      "849/849 [==============================] - 3s 4ms/step - loss: 7.1074 - accuracy: 0.1262 - val_loss: 7.4727 - val_accuracy: 0.1028\n",
      "Epoch 16/50\n",
      "849/849 [==============================] - 4s 4ms/step - loss: 7.0913 - accuracy: 0.1216 - val_loss: 7.4801 - val_accuracy: 0.1031\n",
      "Epoch 17/50\n",
      "849/849 [==============================] - 4s 4ms/step - loss: 7.0777 - accuracy: 0.1246 - val_loss: 7.4776 - val_accuracy: 0.1021\n",
      "Epoch 18/50\n",
      "849/849 [==============================] - 4s 5ms/step - loss: 7.0717 - accuracy: 0.1254 - val_loss: 7.4872 - val_accuracy: 0.0988\n",
      "Epoch 19/50\n",
      "849/849 [==============================] - 5s 6ms/step - loss: 7.0581 - accuracy: 0.1272 - val_loss: 7.4821 - val_accuracy: 0.0988\n",
      "Epoch 20/50\n",
      "849/849 [==============================] - 6s 7ms/step - loss: 7.0460 - accuracy: 0.1293 - val_loss: 7.4881 - val_accuracy: 0.0965\n",
      "Epoch 21/50\n",
      "849/849 [==============================] - 5s 6ms/step - loss: 7.0438 - accuracy: 0.1330 - val_loss: 7.4954 - val_accuracy: 0.0988\n",
      "Epoch 22/50\n",
      "849/849 [==============================] - 5s 5ms/step - loss: 7.0339 - accuracy: 0.1268 - val_loss: 7.4979 - val_accuracy: 0.0999\n",
      "Epoch 23/50\n",
      "849/849 [==============================] - 4s 5ms/step - loss: 7.0291 - accuracy: 0.1291 - val_loss: 7.5144 - val_accuracy: 0.1029\n",
      "Epoch 24/50\n",
      "849/849 [==============================] - 4s 4ms/step - loss: 7.0206 - accuracy: 0.1295 - val_loss: 7.5057 - val_accuracy: 0.0999\n",
      "Epoch 25/50\n",
      "849/849 [==============================] - 4s 4ms/step - loss: 7.0125 - accuracy: 0.1302 - val_loss: 7.5065 - val_accuracy: 0.1034\n",
      "Epoch 26/50\n",
      "849/849 [==============================] - 4s 5ms/step - loss: 7.0041 - accuracy: 0.1318 - val_loss: 7.5103 - val_accuracy: 0.0960\n",
      "Epoch 27/50\n",
      "849/849 [==============================] - 5s 6ms/step - loss: 7.0074 - accuracy: 0.1327 - val_loss: 7.5094 - val_accuracy: 0.0979\n",
      "Epoch 28/50\n",
      "849/849 [==============================] - 4s 5ms/step - loss: 6.9998 - accuracy: 0.1348 - val_loss: 7.5029 - val_accuracy: 0.0971\n",
      "Epoch 29/50\n",
      "849/849 [==============================] - 5s 6ms/step - loss: 6.9918 - accuracy: 0.1347 - val_loss: 7.5203 - val_accuracy: 0.0984\n",
      "Epoch 30/50\n",
      "849/849 [==============================] - 5s 6ms/step - loss: 6.9878 - accuracy: 0.1346 - val_loss: 7.5097 - val_accuracy: 0.0968\n",
      "Epoch 31/50\n",
      "849/849 [==============================] - 5s 5ms/step - loss: 6.9815 - accuracy: 0.1344 - val_loss: 7.5220 - val_accuracy: 0.0966\n",
      "Epoch 32/50\n",
      "849/849 [==============================] - 5s 6ms/step - loss: 6.9742 - accuracy: 0.1394 - val_loss: 7.5258 - val_accuracy: 0.0973\n",
      "Epoch 33/50\n",
      "849/849 [==============================] - 5s 6ms/step - loss: 6.9766 - accuracy: 0.1410 - val_loss: 7.5214 - val_accuracy: 0.0946\n",
      "Epoch 34/50\n",
      "849/849 [==============================] - 5s 6ms/step - loss: 6.9635 - accuracy: 0.1420 - val_loss: 7.5260 - val_accuracy: 0.0931\n",
      "Epoch 35/50\n",
      "849/849 [==============================] - 5s 6ms/step - loss: 6.9593 - accuracy: 0.1421 - val_loss: 7.5275 - val_accuracy: 0.1014\n",
      "Epoch 36/50\n",
      "849/849 [==============================] - 5s 6ms/step - loss: 6.9643 - accuracy: 0.1424 - val_loss: 7.5259 - val_accuracy: 0.0983\n",
      "Epoch 37/50\n",
      "849/849 [==============================] - 5s 6ms/step - loss: 6.9583 - accuracy: 0.1432 - val_loss: 7.5335 - val_accuracy: 0.1008\n",
      "Epoch 38/50\n",
      "849/849 [==============================] - 5s 6ms/step - loss: 6.9535 - accuracy: 0.1440 - val_loss: 7.5327 - val_accuracy: 0.1016\n",
      "Epoch 39/50\n",
      "849/849 [==============================] - 5s 5ms/step - loss: 6.9530 - accuracy: 0.1450 - val_loss: 7.5405 - val_accuracy: 0.0984\n",
      "Epoch 40/50\n",
      "849/849 [==============================] - 5s 6ms/step - loss: 6.9469 - accuracy: 0.1453 - val_loss: 7.5388 - val_accuracy: 0.1026\n",
      "Epoch 41/50\n",
      "849/849 [==============================] - 5s 6ms/step - loss: 6.9433 - accuracy: 0.1468 - val_loss: 7.5345 - val_accuracy: 0.0994\n",
      "Epoch 42/50\n",
      "849/849 [==============================] - 5s 6ms/step - loss: 6.9439 - accuracy: 0.1511 - val_loss: 7.5443 - val_accuracy: 0.1024\n",
      "Epoch 43/50\n",
      "849/849 [==============================] - 5s 6ms/step - loss: 6.9421 - accuracy: 0.1509 - val_loss: 7.5429 - val_accuracy: 0.0999\n",
      "Epoch 44/50\n",
      "849/849 [==============================] - 5s 5ms/step - loss: 6.9340 - accuracy: 0.1487 - val_loss: 7.5430 - val_accuracy: 0.0994\n",
      "Epoch 45/50\n",
      "849/849 [==============================] - 6s 7ms/step - loss: 6.9389 - accuracy: 0.1502 - val_loss: 7.5525 - val_accuracy: 0.0991\n",
      "Epoch 46/50\n",
      "849/849 [==============================] - 5s 6ms/step - loss: 6.9302 - accuracy: 0.1529 - val_loss: 7.5499 - val_accuracy: 0.0991\n",
      "Epoch 47/50\n",
      "849/849 [==============================] - 5s 6ms/step - loss: 6.9333 - accuracy: 0.1561 - val_loss: 7.5525 - val_accuracy: 0.0966\n",
      "Epoch 48/50\n",
      "849/849 [==============================] - 5s 6ms/step - loss: 6.9238 - accuracy: 0.1547 - val_loss: 7.5553 - val_accuracy: 0.0989\n",
      "Epoch 49/50\n",
      "849/849 [==============================] - 5s 6ms/step - loss: 6.9240 - accuracy: 0.1573 - val_loss: 7.5539 - val_accuracy: 0.1008\n",
      "Epoch 50/50\n",
      "849/849 [==============================] - 5s 6ms/step - loss: 6.9284 - accuracy: 0.1585 - val_loss: 7.5722 - val_accuracy: 0.0999\n"
     ]
    },
    {
     "data": {
      "text/plain": [
       "<tensorflow.python.keras.callbacks.History at 0x1f763d87208>"
      ]
     },
     "execution_count": 170,
     "metadata": {},
     "output_type": "execute_result"
    }
   ],
   "source": [
    "model.fit(boards,moves,batch_size = 32,epochs = 50,validation_split = 0.1)"
   ]
  },
  {
   "cell_type": "code",
   "execution_count": 171,
   "metadata": {
    "ExecuteTime": {
     "end_time": "2021-03-13T20:15:15.886356Z",
     "start_time": "2021-03-13T20:15:15.099004Z"
    }
   },
   "outputs": [],
   "source": [
    "from beth.board import Board"
   ]
  },
  {
   "cell_type": "code",
   "execution_count": 172,
   "metadata": {
    "ExecuteTime": {
     "end_time": "2021-03-13T20:15:16.467558Z",
     "start_time": "2021-03-13T20:15:15.889213Z"
    }
   },
   "outputs": [],
   "source": [
    "board = Board()"
   ]
  },
  {
   "cell_type": "code",
   "execution_count": 173,
   "metadata": {
    "ExecuteTime": {
     "end_time": "2021-03-13T20:15:17.010631Z",
     "start_time": "2021-03-13T20:15:16.472582Z"
    }
   },
   "outputs": [],
   "source": [
    "# board.push_san(\"e4\")\n",
    "# board.push_san(\"e5\")"
   ]
  },
  {
   "cell_type": "code",
   "execution_count": 174,
   "metadata": {
    "ExecuteTime": {
     "end_time": "2021-03-13T20:15:17.807806Z",
     "start_time": "2021-03-13T20:15:17.014617Z"
    }
   },
   "outputs": [
    {
     "name": "stdout",
     "output_type": "stream",
     "text": [
      "WARNING:tensorflow:8 out of the last 11 calls to <function Model.make_predict_function.<locals>.predict_function at 0x000001F7644FB708> triggered tf.function retracing. Tracing is expensive and the excessive number of tracings could be due to (1) creating @tf.function repeatedly in a loop, (2) passing tensors with different shapes, (3) passing Python objects instead of tensors. For (1), please define your @tf.function outside of the loop. For (2), @tf.function has experimental_relax_shapes=True option that relaxes argument shapes that can avoid unnecessary retracing. For (3), please refer to https://www.tensorflow.org/guide/function#controlling_retracing and https://www.tensorflow.org/api_docs/python/tf/function for  more details.\n"
     ]
    }
   ],
   "source": [
    "board_array = np.expand_dims(board.to_array(),axis = 0)\n",
    "pred = model.predict(board_array)"
   ]
  },
  {
   "cell_type": "code",
   "execution_count": 175,
   "metadata": {
    "ExecuteTime": {
     "end_time": "2021-03-13T20:15:19.640369Z",
     "start_time": "2021-03-13T20:15:17.811715Z"
    }
   },
   "outputs": [
    {
     "data": {
      "image/png": "[encoded data removed]",
      "text/plain": [
       "<Figure size 720x216 with 4 Axes>"
      ]
     },
     "metadata": {
      "needs_background": "light"
     },
     "output_type": "display_data"
    }
   ],
   "source": [
    "import seaborn as sns\n",
    "\n",
    "fig,axes = plt.subplots(ncols=2,squeeze = True,figsize = (10,3))\n",
    "sns.heatmap(pred[0,0].reshape(8,8),square = True,ax = axes[0])\n",
    "sns.heatmap(pred[0,1].reshape(8,8),square = True,ax = axes[1])\n",
    "\n",
    "axes[0].set_title(\"from_square\")\n",
    "axes[1].set_title(\"to_square\")\n",
    "\n",
    "plt.show()"
   ]
  },
  {
   "cell_type": "code",
   "execution_count": null,
   "metadata": {},
   "outputs": [],
   "source": []
  }
 ],
 "metadata": {
  "kernelspec": {
   "display_name": "Python 3",
   "language": "python",
   "name": "python3"
  },
  "language_info": {
   "codemirror_mode": {
    "name": "ipython",
    "version": 3
   },
   "file_extension": ".py",
   "mimetype": "text/x-python",
   "name": "python",
   "nbconvert_exporter": "python",
   "pygments_lexer": "ipython3",
   "version": "3.7.4"
  },
  "toc": {
   "base_numbering": 1,
   "nav_menu": {},
   "number_sections": true,
   "sideBar": true,
   "skip_h1_title": false,
   "title_cell": "Table of Contents",
   "title_sidebar": "Contents",
   "toc_cell": false,
   "toc_position": {},
   "toc_section_display": true,
   "toc_window_display": true
  }
 },
 "nbformat": 4,
 "nbformat_minor": 4
}
