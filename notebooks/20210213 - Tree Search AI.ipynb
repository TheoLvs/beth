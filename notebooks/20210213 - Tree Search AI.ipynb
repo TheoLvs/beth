{
 "cells": [
  {
   "cell_type": "code",
   "execution_count": 1,
   "metadata": {
    "ExecuteTime": {
     "end_time": "2021-02-14T21:10:19.772539Z",
     "start_time": "2021-02-14T21:10:17.338804Z"
    }
   },
   "outputs": [],
   "source": [
    "# Base Data Science snippet\n",
    "import pandas as pd\n",
    "import numpy as np\n",
    "import matplotlib.pyplot as plt\n",
    "import os\n",
    "import time\n",
    "from tqdm import tqdm_notebook\n",
    "\n",
    "%matplotlib inline\n",
    "%load_ext autoreload\n",
    "%autoreload 2\n",
    "\n",
    "from comet_ml import Experiment"
   ]
  },
  {
   "cell_type": "code",
   "execution_count": 10,
   "metadata": {
    "ExecuteTime": {
     "end_time": "2021-02-14T21:19:16.524984Z",
     "start_time": "2021-02-14T21:19:16.256785Z"
    }
   },
   "outputs": [],
   "source": [
    "import sys\n",
    "sys.path.append(\"../\")\n",
    "\n",
    "from beth import Game,RandomPlayer,HumanPlayer\n",
    "from beth.move import Move\n",
    "from beth.ai import TreeSearchAI\n",
    "from beth.tree import RandomTreeSearch"
   ]
  },
  {
   "cell_type": "markdown",
   "metadata": {},
   "source": [
    "# Playground"
   ]
  },
  {
   "cell_type": "code",
   "execution_count": 30,
   "metadata": {
    "ExecuteTime": {
     "end_time": "2021-02-14T21:37:59.827081Z",
     "start_time": "2021-02-14T21:37:59.636222Z"
    }
   },
   "outputs": [],
   "source": [
    "white = HumanPlayer()\n",
    "black = TreeSearchAI(breadth = 30,depth = 2)\n",
    "\n",
    "game = Game(white,black)"
   ]
  },
  {
   "cell_type": "code",
   "execution_count": 31,
   "metadata": {
    "ExecuteTime": {
     "end_time": "2021-02-14T21:46:20.453457Z",
     "start_time": "2021-02-14T21:38:10.713219Z"
    }
   },
   "outputs": [
    {
     "data": {
      "application/vnd.jupyter.widget-view+json": {
       "model_id": "613b7e79244d41638f0e7621599e17cb",
       "version_major": 2,
       "version_minor": 0
      },
      "text/plain": [
       "Output()"
      ]
     },
     "metadata": {},
     "output_type": "display_data"
    },
    {
     "name": "stdout",
     "output_type": "stream",
     "text": [
      "WHITE move: e4\n",
      "WHITE move: Nf3\n",
      "WHITE move: d4\n",
      "WHITE move: f3d4\n",
      "WHITE move: Nc3\n",
      "WHITE move: f1e2\n",
      "WHITE move: e2f3\n",
      "WHITE move: f3e4\n",
      "WHITE move: e4a8\n",
      "WHITE move: b2c3\n",
      "WHITE move: d4b5\n",
      "WHITE move: d1d5\n",
      "WHITE move: c1f4\n",
      "WHITE move: d5b7\n",
      "WHITE move: b7b8\n",
      "WHITE move: a8d5\n",
      "WHITE move: b8c7\n",
      "WHITE move: O-O\n",
      "WHITE move: f1e1\n",
      "WHITE move: c7e7\n",
      "WHITE move: f4d6\n",
      "WHITE move: e7f8\n",
      "WHITE move: f8f7\n",
      "WHITE move: d6f4\n",
      "WHITE move: e1e6\n"
     ]
    }
   ],
   "source": [
    "game.run()"
   ]
  },
  {
   "cell_type": "code",
   "execution_count": 33,
   "metadata": {
    "ExecuteTime": {
     "end_time": "2021-02-14T21:47:19.582073Z",
     "start_time": "2021-02-14T21:47:19.330693Z"
    }
   },
   "outputs": [
    {
     "data": {
      "application/vnd.jupyter.widget-view+json": {
       "model_id": "4671b990307e4faaaac40cceaf9c6b0b",
       "version_major": 2,
       "version_minor": 0
      },
      "text/plain": [
       "interactive(children=(Play(value=0, description='Press play', interval=500, max=49), Output()), _dom_classes=(…"
      ]
     },
     "metadata": {},
     "output_type": "display_data"
    },
    {
     "data": {
      "application/vnd.jupyter.widget-view+json": {
       "model_id": "ec8f5b84da804523ae8b0c6c88ad99ce",
       "version_major": 2,
       "version_minor": 0
      },
      "text/plain": [
       "IntSlider(value=0, max=49)"
      ]
     },
     "metadata": {},
     "output_type": "display_data"
    }
   ],
   "source": [
    "game.replay()"
   ]
  },
  {
   "cell_type": "code",
   "execution_count": 36,
   "metadata": {
    "ExecuteTime": {
     "end_time": "2021-02-14T21:49:08.304347Z",
     "start_time": "2021-02-14T21:49:08.037511Z"
    }
   },
   "outputs": [],
   "source": [
    "y = pd.concat([x.assign(move=lambda x : i) for i,x in enumerate(game.black.brain.memory)],axis = 0,ignore_index = True)"
   ]
  },
  {
   "cell_type": "code",
   "execution_count": 38,
   "metadata": {
    "ExecuteTime": {
     "end_time": "2021-02-14T21:49:22.987750Z",
     "start_time": "2021-02-14T21:49:22.726866Z"
    }
   },
   "outputs": [
    {
     "data": {
      "text/html": [
       "<div>\n",
       "<style scoped>\n",
       "    .dataframe tbody tr th:only-of-type {\n",
       "        vertical-align: middle;\n",
       "    }\n",
       "\n",
       "    .dataframe tbody tr th {\n",
       "        vertical-align: top;\n",
       "    }\n",
       "\n",
       "    .dataframe thead th {\n",
       "        text-align: right;\n",
       "    }\n",
       "</style>\n",
       "<table border=\"1\" class=\"dataframe\">\n",
       "  <thead>\n",
       "    <tr style=\"text-align: right;\">\n",
       "      <th></th>\n",
       "      <th>names</th>\n",
       "      <th>scores</th>\n",
       "      <th>total</th>\n",
       "      <th>next_move</th>\n",
       "      <th>move</th>\n",
       "    </tr>\n",
       "  </thead>\n",
       "  <tbody>\n",
       "    <tr>\n",
       "      <th>0</th>\n",
       "      <td>(Nh6, Nh3)</td>\n",
       "      <td>[0, 0]</td>\n",
       "      <td>0</td>\n",
       "      <td>Nh6</td>\n",
       "      <td>0</td>\n",
       "    </tr>\n",
       "    <tr>\n",
       "      <th>4351</th>\n",
       "      <td>(Rh6, Qf5)</td>\n",
       "      <td>[0, 0]</td>\n",
       "      <td>0</td>\n",
       "      <td>Rh6</td>\n",
       "      <td>11</td>\n",
       "    </tr>\n",
       "    <tr>\n",
       "      <th>4350</th>\n",
       "      <td>(Rh6, O-O)</td>\n",
       "      <td>[0, 0]</td>\n",
       "      <td>0</td>\n",
       "      <td>Rh6</td>\n",
       "      <td>11</td>\n",
       "    </tr>\n",
       "    <tr>\n",
       "      <th>4349</th>\n",
       "      <td>(Rh6, Qe4)</td>\n",
       "      <td>[0, 0]</td>\n",
       "      <td>0</td>\n",
       "      <td>Rh6</td>\n",
       "      <td>11</td>\n",
       "    </tr>\n",
       "    <tr>\n",
       "      <th>4348</th>\n",
       "      <td>(Rh6, Rf1)</td>\n",
       "      <td>[0, 0]</td>\n",
       "      <td>0</td>\n",
       "      <td>Rh6</td>\n",
       "      <td>11</td>\n",
       "    </tr>\n",
       "    <tr>\n",
       "      <th>...</th>\n",
       "      <td>...</td>\n",
       "      <td>...</td>\n",
       "      <td>...</td>\n",
       "      <td>...</td>\n",
       "      <td>...</td>\n",
       "    </tr>\n",
       "    <tr>\n",
       "      <th>4047</th>\n",
       "      <td>(axb5, Ke2)</td>\n",
       "      <td>[-3, 0]</td>\n",
       "      <td>3</td>\n",
       "      <td>axb5</td>\n",
       "      <td>10</td>\n",
       "    </tr>\n",
       "    <tr>\n",
       "      <th>3538</th>\n",
       "      <td>(Qxc3+, Bd2)</td>\n",
       "      <td>[-3, 0]</td>\n",
       "      <td>3</td>\n",
       "      <td>Qxc3+</td>\n",
       "      <td>8</td>\n",
       "    </tr>\n",
       "    <tr>\n",
       "      <th>3539</th>\n",
       "      <td>(Qxc3+, Ke2)</td>\n",
       "      <td>[-3, 0]</td>\n",
       "      <td>3</td>\n",
       "      <td>Qxc3+</td>\n",
       "      <td>8</td>\n",
       "    </tr>\n",
       "    <tr>\n",
       "      <th>5654</th>\n",
       "      <td>(exd5, Qd7)</td>\n",
       "      <td>[-3, 0]</td>\n",
       "      <td>3</td>\n",
       "      <td>exd5</td>\n",
       "      <td>17</td>\n",
       "    </tr>\n",
       "    <tr>\n",
       "      <th>5655</th>\n",
       "      <td>(exd5, a3)</td>\n",
       "      <td>[-3, 0]</td>\n",
       "      <td>3</td>\n",
       "      <td>exd5</td>\n",
       "      <td>17</td>\n",
       "    </tr>\n",
       "  </tbody>\n",
       "</table>\n",
       "<p>6534 rows × 5 columns</p>\n",
       "</div>"
      ],
      "text/plain": [
       "             names   scores  total next_move  move\n",
       "0       (Nh6, Nh3)   [0, 0]      0       Nh6     0\n",
       "4351    (Rh6, Qf5)   [0, 0]      0       Rh6    11\n",
       "4350    (Rh6, O-O)   [0, 0]      0       Rh6    11\n",
       "4349    (Rh6, Qe4)   [0, 0]      0       Rh6    11\n",
       "4348    (Rh6, Rf1)   [0, 0]      0       Rh6    11\n",
       "...            ...      ...    ...       ...   ...\n",
       "4047   (axb5, Ke2)  [-3, 0]      3      axb5    10\n",
       "3538  (Qxc3+, Bd2)  [-3, 0]      3     Qxc3+     8\n",
       "3539  (Qxc3+, Ke2)  [-3, 0]      3     Qxc3+     8\n",
       "5654   (exd5, Qd7)  [-3, 0]      3      exd5    17\n",
       "5655    (exd5, a3)  [-3, 0]      3      exd5    17\n",
       "\n",
       "[6534 rows x 5 columns]"
      ]
     },
     "execution_count": 38,
     "metadata": {},
     "output_type": "execute_result"
    }
   ],
   "source": [
    "y.sort_values(\"total\")"
   ]
  },
  {
   "cell_type": "code",
   "execution_count": 29,
   "metadata": {
    "ExecuteTime": {
     "end_time": "2021-02-14T21:37:46.570694Z",
     "start_time": "2021-02-14T21:37:46.355649Z"
    }
   },
   "outputs": [
    {
     "data": {
      "text/plain": [
       "900"
      ]
     },
     "execution_count": 29,
     "metadata": {},
     "output_type": "execute_result"
    }
   ],
   "source": [
    "30**2"
   ]
  },
  {
   "cell_type": "code",
   "execution_count": 19,
   "metadata": {
    "ExecuteTime": {
     "end_time": "2021-02-14T21:23:33.975736Z",
     "start_time": "2021-02-14T21:23:33.672698Z"
    }
   },
   "outputs": [
    {
     "data": {
      "application/vnd.jupyter.widget-view+json": {
       "model_id": "8e7a693b53554a3d8e68a6cc60a07d0f",
       "version_major": 2,
       "version_minor": 0
      },
      "text/plain": [
       "interactive(children=(Play(value=0, description='Press play', interval=500, max=6), Output()), _dom_classes=('…"
      ]
     },
     "metadata": {},
     "output_type": "display_data"
    },
    {
     "data": {
      "application/vnd.jupyter.widget-view+json": {
       "model_id": "42c2878bbe66499c8599b4d8fe9f0648",
       "version_major": 2,
       "version_minor": 0
      },
      "text/plain": [
       "IntSlider(value=0, max=6)"
      ]
     },
     "metadata": {},
     "output_type": "display_data"
    }
   ],
   "source": [
    "game.replay()"
   ]
  },
  {
   "cell_type": "code",
   "execution_count": 23,
   "metadata": {
    "ExecuteTime": {
     "end_time": "2021-02-14T21:31:16.529550Z",
     "start_time": "2021-02-14T21:31:16.322714Z"
    }
   },
   "outputs": [
    {
     "data": {
      "text/html": [
       "<div>\n",
       "<style scoped>\n",
       "    .dataframe tbody tr th:only-of-type {\n",
       "        vertical-align: middle;\n",
       "    }\n",
       "\n",
       "    .dataframe tbody tr th {\n",
       "        vertical-align: top;\n",
       "    }\n",
       "\n",
       "    .dataframe thead th {\n",
       "        text-align: right;\n",
       "    }\n",
       "</style>\n",
       "<table border=\"1\" class=\"dataframe\">\n",
       "  <thead>\n",
       "    <tr style=\"text-align: right;\">\n",
       "      <th></th>\n",
       "      <th>names</th>\n",
       "      <th>scores</th>\n",
       "      <th>total</th>\n",
       "      <th>next_move</th>\n",
       "    </tr>\n",
       "  </thead>\n",
       "  <tbody>\n",
       "    <tr>\n",
       "      <th>600</th>\n",
       "      <td>(d5, Qg4, Bxg4)</td>\n",
       "      <td>[0, 0, -9]</td>\n",
       "      <td>9</td>\n",
       "      <td>d5</td>\n",
       "    </tr>\n",
       "  </tbody>\n",
       "</table>\n",
       "</div>"
      ],
      "text/plain": [
       "               names      scores  total next_move\n",
       "600  (d5, Qg4, Bxg4)  [0, 0, -9]      9        d5"
      ]
     },
     "execution_count": 23,
     "metadata": {},
     "output_type": "execute_result"
    }
   ],
   "source": [
    "game.black.brain.memory[0]"
   ]
  },
  {
   "cell_type": "code",
   "execution_count": 9,
   "metadata": {
    "ExecuteTime": {
     "end_time": "2021-02-14T21:16:57.548782Z",
     "start_time": "2021-02-14T21:16:57.332865Z"
    }
   },
   "outputs": [
    {
     "name": "stdout",
     "output_type": "stream",
     "text": [
      "Game saved as pgn file at 'PGN_beth_2021-02-14T22-16-57.pgn'\n"
     ]
    }
   ],
   "source": [
    "game.save_pgn()"
   ]
  },
  {
   "cell_type": "code",
   "execution_count": null,
   "metadata": {},
   "outputs": [],
   "source": []
  }
 ],
 "metadata": {
  "kernelspec": {
   "display_name": "Python 3",
   "language": "python",
   "name": "python3"
  },
  "language_info": {
   "codemirror_mode": {
    "name": "ipython",
    "version": 3
   },
   "file_extension": ".py",
   "mimetype": "text/x-python",
   "name": "python",
   "nbconvert_exporter": "python",
   "pygments_lexer": "ipython3",
   "version": "3.7.4"
  },
  "toc": {
   "base_numbering": 1,
   "nav_menu": {},
   "number_sections": true,
   "sideBar": true,
   "skip_h1_title": false,
   "title_cell": "Table of Contents",
   "title_sidebar": "Contents",
   "toc_cell": false,
   "toc_position": {},
   "toc_section_display": true,
   "toc_window_display": true
  }
 },
 "nbformat": 4,
 "nbformat_minor": 4
}
