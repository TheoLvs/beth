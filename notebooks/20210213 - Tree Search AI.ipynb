{
 "cells": [
  {
   "cell_type": "code",
   "execution_count": 2,
   "metadata": {
    "ExecuteTime": {
     "end_time": "2021-03-02T23:18:52.418977Z",
     "start_time": "2021-03-02T23:18:50.851980Z"
    }
   },
   "outputs": [],
   "source": [
    "# Base Data Science snippet\n",
    "import pandas as pd\n",
    "import numpy as np\n",
    "import matplotlib.pyplot as plt\n",
    "import os\n",
    "import time\n",
    "from tqdm import tqdm_notebook\n",
    "\n",
    "%matplotlib inline\n",
    "%load_ext autoreload\n",
    "%autoreload 2\n",
    "\n",
    "pd.set_option('display.max_rows', 500)\n",
    "pd.set_option('display.max_columns', 500)\n",
    "pd.set_option('display.width', 1000)\n",
    "\n",
    "from comet_ml import Experiment"
   ]
  },
  {
   "cell_type": "code",
   "execution_count": 3,
   "metadata": {
    "ExecuteTime": {
     "end_time": "2021-03-02T23:18:52.732981Z",
     "start_time": "2021-03-02T23:18:52.422984Z"
    }
   },
   "outputs": [],
   "source": [
    "import sys\n",
    "sys.path.append(\"../\")\n",
    "\n",
    "from beth import Game,RandomPlayer,HumanPlayer\n",
    "from beth.move import Move\n",
    "from beth.board import Board\n",
    "from beth.ai import TreeSearchAI,StockfishAI\n",
    "from beth.tree import TreeSearch"
   ]
  },
  {
   "cell_type": "markdown",
   "metadata": {},
   "source": [
    "# Playground"
   ]
  },
  {
   "cell_type": "code",
   "execution_count": 4,
   "metadata": {
    "ExecuteTime": {
     "end_time": "2021-03-02T23:25:21.510074Z",
     "start_time": "2021-03-02T23:25:21.340047Z"
    }
   },
   "outputs": [],
   "source": [
    "stockfish_path = \"C:/Users/talvesdacosta/Downloads/stockfish_13_win_x64/stockfish_13_win_x64/stockfish_13_win_x64.exe\""
   ]
  },
  {
   "cell_type": "code",
   "execution_count": 7,
   "metadata": {
    "ExecuteTime": {
     "end_time": "2021-03-02T23:30:02.225898Z",
     "start_time": "2021-03-02T23:30:01.914914Z"
    }
   },
   "outputs": [],
   "source": [
    "x = game.san_moves_stack"
   ]
  },
  {
   "cell_type": "code",
   "execution_count": 9,
   "metadata": {
    "ExecuteTime": {
     "end_time": "2021-03-02T23:31:44.962623Z",
     "start_time": "2021-03-02T23:31:43.201623Z"
    }
   },
   "outputs": [
    {
     "data": {
      "application/vnd.jupyter.widget-view+json": {
       "model_id": "76492498c484436e92782d418536223a",
       "version_major": 2,
       "version_minor": 0
      },
      "text/plain": [
       "Output()"
      ]
     },
     "metadata": {},
     "output_type": "display_data"
    },
    {
     "name": "stdout",
     "output_type": "stream",
     "text": [
      "WHITE move: exit\n"
     ]
    }
   ],
   "source": [
    "# AIs\n",
    "# white = TreeSearchAI(depth = 3,breadth = 10)\n",
    "black = TreeSearchAI(depth = 3,wait = 0.5)\n",
    "# black = StockfishAI(stockfish_path,elo=1350)\n",
    "# # white = StockfishAI(stockfish_path,elo=2500)\n",
    "\n",
    "\n",
    "# Humans\n",
    "white = HumanPlayer()\n",
    "# black = HumanPlayer()\n",
    "\n",
    "# Init and run the game\n",
    "game = Game(white,black)\n",
    "# game.move(x)\n",
    "game.run()"
   ]
  },
  {
   "cell_type": "code",
   "execution_count": 10,
   "metadata": {
    "ExecuteTime": {
     "end_time": "2021-03-02T23:32:08.938855Z",
     "start_time": "2021-03-02T23:32:08.767849Z"
    }
   },
   "outputs": [],
   "source": [
    "from beth.tree.tree import TreeSearch"
   ]
  },
  {
   "cell_type": "code",
   "execution_count": 11,
   "metadata": {
    "ExecuteTime": {
     "end_time": "2021-03-02T23:32:20.062371Z",
     "start_time": "2021-03-02T23:32:19.915361Z"
    }
   },
   "outputs": [],
   "source": [
    "search = TreeSearch(game.board)"
   ]
  },
  {
   "cell_type": "code",
   "execution_count": 14,
   "metadata": {
    "ExecuteTime": {
     "end_time": "2021-03-02T23:34:00.952206Z",
     "start_time": "2021-03-02T23:33:38.285974Z"
    },
    "scrolled": false
   },
   "outputs": [
    {
     "data": {
      "text/html": [
       "<div>\n",
       "<style scoped>\n",
       "    .dataframe tbody tr th:only-of-type {\n",
       "        vertical-align: middle;\n",
       "    }\n",
       "\n",
       "    .dataframe tbody tr th {\n",
       "        vertical-align: top;\n",
       "    }\n",
       "\n",
       "    .dataframe thead th {\n",
       "        text-align: right;\n",
       "    }\n",
       "</style>\n",
       "<table border=\"1\" class=\"dataframe\">\n",
       "  <thead>\n",
       "    <tr style=\"text-align: right;\">\n",
       "      <th></th>\n",
       "      <th>names</th>\n",
       "      <th>scores</th>\n",
       "      <th>total</th>\n",
       "      <th>next_move</th>\n",
       "      <th>is_best_move</th>\n",
       "    </tr>\n",
       "  </thead>\n",
       "  <tbody>\n",
       "    <tr>\n",
       "      <th>0</th>\n",
       "      <td>(Nf3, Nf6, Nc3, Nc6)</td>\n",
       "      <td>(5.0, -5.0, 5.0, -5.0)</td>\n",
       "      <td>0.0</td>\n",
       "      <td>Nf3</td>\n",
       "      <td>True</td>\n",
       "    </tr>\n",
       "    <tr>\n",
       "      <th>522</th>\n",
       "      <td>(Nc3, Nf6, Nf3, Nc6)</td>\n",
       "      <td>(5.0, -5.0, 5.0, -5.0)</td>\n",
       "      <td>0.0</td>\n",
       "      <td>Nc3</td>\n",
       "      <td>True</td>\n",
       "    </tr>\n",
       "    <tr>\n",
       "      <th>774</th>\n",
       "      <td>(Nc3, Nc6, Nf3, Nf6)</td>\n",
       "      <td>(5.0, -5.0, 5.0, -5.0)</td>\n",
       "      <td>0.0</td>\n",
       "      <td>Nc3</td>\n",
       "      <td>True</td>\n",
       "    </tr>\n",
       "    <tr>\n",
       "      <th>252</th>\n",
       "      <td>(Nf3, Nc6, Nc3, Nf6)</td>\n",
       "      <td>(5.0, -5.0, 5.0, -5.0)</td>\n",
       "      <td>0.0</td>\n",
       "      <td>Nf3</td>\n",
       "      <td>True</td>\n",
       "    </tr>\n",
       "    <tr>\n",
       "      <th>4146</th>\n",
       "      <td>(d3, Nc6, e4, b5)</td>\n",
       "      <td>(2.0, -5.0, 4.0, 1.0)</td>\n",
       "      <td>2.0</td>\n",
       "      <td>d3</td>\n",
       "      <td>False</td>\n",
       "    </tr>\n",
       "    <tr>\n",
       "      <th>...</th>\n",
       "      <td>...</td>\n",
       "      <td>...</td>\n",
       "      <td>...</td>\n",
       "      <td>...</td>\n",
       "      <td>...</td>\n",
       "    </tr>\n",
       "    <tr>\n",
       "      <th>2069</th>\n",
       "      <td>(d4, Nf6, Be3, h6)</td>\n",
       "      <td>(4.0, -5.0, 2.0, 0.0)</td>\n",
       "      <td>1.0</td>\n",
       "      <td>d4</td>\n",
       "      <td>False</td>\n",
       "    </tr>\n",
       "    <tr>\n",
       "      <th>2068</th>\n",
       "      <td>(d4, Nf6, Be3, Rg8)</td>\n",
       "      <td>(4.0, -5.0, 2.0, 0.0)</td>\n",
       "      <td>1.0</td>\n",
       "      <td>d4</td>\n",
       "      <td>False</td>\n",
       "    </tr>\n",
       "    <tr>\n",
       "      <th>2067</th>\n",
       "      <td>(d4, Nf6, Be3, Ne4)</td>\n",
       "      <td>(4.0, -5.0, 2.0, -1.0)</td>\n",
       "      <td>0.0</td>\n",
       "      <td>d4</td>\n",
       "      <td>False</td>\n",
       "    </tr>\n",
       "    <tr>\n",
       "      <th>2066</th>\n",
       "      <td>(d4, Nf6, Be3, Nd5)</td>\n",
       "      <td>(4.0, -5.0, 2.0, -1.0)</td>\n",
       "      <td>0.0</td>\n",
       "      <td>d4</td>\n",
       "      <td>False</td>\n",
       "    </tr>\n",
       "    <tr>\n",
       "      <th>6209</th>\n",
       "      <td>(c3,)</td>\n",
       "      <td>(-2.0,)</td>\n",
       "      <td>-2.0</td>\n",
       "      <td>c3</td>\n",
       "      <td>False</td>\n",
       "    </tr>\n",
       "  </tbody>\n",
       "</table>\n",
       "<p>6210 rows × 5 columns</p>\n",
       "</div>"
      ],
      "text/plain": [
       "                     names                  scores  total next_move  is_best_move\n",
       "0     (Nf3, Nf6, Nc3, Nc6)  (5.0, -5.0, 5.0, -5.0)    0.0       Nf3          True\n",
       "522   (Nc3, Nf6, Nf3, Nc6)  (5.0, -5.0, 5.0, -5.0)    0.0       Nc3          True\n",
       "774   (Nc3, Nc6, Nf3, Nf6)  (5.0, -5.0, 5.0, -5.0)    0.0       Nc3          True\n",
       "252   (Nf3, Nc6, Nc3, Nf6)  (5.0, -5.0, 5.0, -5.0)    0.0       Nf3          True\n",
       "4146     (d3, Nc6, e4, b5)   (2.0, -5.0, 4.0, 1.0)    2.0        d3         False\n",
       "...                    ...                     ...    ...       ...           ...\n",
       "2069    (d4, Nf6, Be3, h6)   (4.0, -5.0, 2.0, 0.0)    1.0        d4         False\n",
       "2068   (d4, Nf6, Be3, Rg8)   (4.0, -5.0, 2.0, 0.0)    1.0        d4         False\n",
       "2067   (d4, Nf6, Be3, Ne4)  (4.0, -5.0, 2.0, -1.0)    0.0        d4         False\n",
       "2066   (d4, Nf6, Be3, Nd5)  (4.0, -5.0, 2.0, -1.0)    0.0        d4         False\n",
       "6209                 (c3,)                 (-2.0,)   -2.0        c3         False\n",
       "\n",
       "[6210 rows x 5 columns]"
      ]
     },
     "execution_count": 14,
     "metadata": {},
     "output_type": "execute_result"
    }
   ],
   "source": [
    "search.explore(depth = 4)"
   ]
  },
  {
   "cell_type": "code",
   "execution_count": 26,
   "metadata": {
    "ExecuteTime": {
     "end_time": "2021-03-02T18:10:56.199773Z",
     "start_time": "2021-03-02T18:10:55.942783Z"
    }
   },
   "outputs": [],
   "source": [
    "from beth.heuristics import PAWN"
   ]
  },
  {
   "cell_type": "code",
   "execution_count": 27,
   "metadata": {
    "ExecuteTime": {
     "end_time": "2021-03-02T18:10:58.090247Z",
     "start_time": "2021-03-02T18:10:57.799799Z"
    }
   },
   "outputs": [
    {
     "data": {
      "text/plain": [
       "array([[ 0. ,  0. ,  0. ,  0. ,  0. ,  0. ,  0. ,  0. ],\n",
       "       [ 5. ,  5. ,  5. ,  5. ,  5. ,  5. ,  5. ,  5. ],\n",
       "       [ 1. ,  1. ,  2. ,  3. ,  3. ,  2. ,  1. ,  1. ],\n",
       "       [ 0.5,  0.5,  1. ,  2.5,  2.5,  1. ,  0.5,  0.5],\n",
       "       [ 0. ,  0. ,  0. ,  2. ,  2. ,  0. ,  0. ,  0. ],\n",
       "       [ 0.5, -0.5, -1. ,  0. ,  0. , -1. , -0.5,  0.5],\n",
       "       [ 0.5,  1. ,  1. , -2. , -2. ,  1. ,  1. ,  0.5],\n",
       "       [ 0. ,  0. ,  0. ,  0. ,  0. ,  0. ,  0. ,  0. ]])"
      ]
     },
     "execution_count": 27,
     "metadata": {},
     "output_type": "execute_result"
    }
   ],
   "source": [
    "PAWN"
   ]
  },
  {
   "cell_type": "code",
   "execution_count": 29,
   "metadata": {
    "ExecuteTime": {
     "end_time": "2021-03-02T23:07:49.982835Z",
     "start_time": "2021-03-02T23:07:49.642135Z"
    }
   },
   "outputs": [
    {
     "data": {
      "application/vnd.jupyter.widget-view+json": {
       "model_id": "8665564374384fc1bf70ce630eef3224",
       "version_major": 2,
       "version_minor": 0
      },
      "text/plain": [
       "interactive(children=(Play(value=0, description='Press play', interval=500, max=6), Output()), _dom_classes=('…"
      ]
     },
     "metadata": {},
     "output_type": "display_data"
    },
    {
     "data": {
      "application/vnd.jupyter.widget-view+json": {
       "model_id": "702e6f344dc547b890b4da63ba2b8f68",
       "version_major": 2,
       "version_minor": 0
      },
      "text/plain": [
       "IntSlider(value=0, max=6)"
      ]
     },
     "metadata": {},
     "output_type": "display_data"
    }
   ],
   "source": [
    "game.replay()"
   ]
  }
 ],
 "metadata": {
  "kernelspec": {
   "display_name": "Python 3",
   "language": "python",
   "name": "python3"
  },
  "language_info": {
   "codemirror_mode": {
    "name": "ipython",
    "version": 3
   },
   "file_extension": ".py",
   "mimetype": "text/x-python",
   "name": "python",
   "nbconvert_exporter": "python",
   "pygments_lexer": "ipython3",
   "version": "3.7.4"
  },
  "toc": {
   "base_numbering": 1,
   "nav_menu": {},
   "number_sections": true,
   "sideBar": true,
   "skip_h1_title": false,
   "title_cell": "Table of Contents",
   "title_sidebar": "Contents",
   "toc_cell": false,
   "toc_position": {},
   "toc_section_display": true,
   "toc_window_display": true
  }
 },
 "nbformat": 4,
 "nbformat_minor": 4
}
