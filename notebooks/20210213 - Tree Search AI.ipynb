{
 "cells": [
  {
   "cell_type": "code",
   "execution_count": 1,
   "metadata": {
    "ExecuteTime": {
     "end_time": "2021-02-28T17:04:24.469209Z",
     "start_time": "2021-02-28T17:04:19.533926Z"
    }
   },
   "outputs": [],
   "source": [
    "# Base Data Science snippet\n",
    "import pandas as pd\n",
    "import numpy as np\n",
    "import matplotlib.pyplot as plt\n",
    "import os\n",
    "import time\n",
    "from tqdm import tqdm_notebook\n",
    "\n",
    "%matplotlib inline\n",
    "%load_ext autoreload\n",
    "%autoreload 2\n",
    "\n",
    "pd.set_option('display.max_rows', 500)\n",
    "pd.set_option('display.max_columns', 500)\n",
    "pd.set_option('display.width', 1000)\n",
    "\n",
    "from comet_ml import Experiment"
   ]
  },
  {
   "cell_type": "code",
   "execution_count": 2,
   "metadata": {
    "ExecuteTime": {
     "end_time": "2021-02-28T17:04:24.958237Z",
     "start_time": "2021-02-28T17:04:24.469209Z"
    }
   },
   "outputs": [],
   "source": [
    "import sys\n",
    "sys.path.append(\"../\")\n",
    "\n",
    "from beth import Game,RandomPlayer,HumanPlayer\n",
    "from beth.move import Move\n",
    "from beth.ai import TreeSearchAI,StockfishAI\n",
    "from beth.tree import TreeSearch"
   ]
  },
  {
   "cell_type": "markdown",
   "metadata": {},
   "source": [
    "# Playground"
   ]
  },
  {
   "cell_type": "code",
   "execution_count": 16,
   "metadata": {
    "ExecuteTime": {
     "end_time": "2021-02-26T09:42:42.558572Z",
     "start_time": "2021-02-26T09:42:42.427467Z"
    }
   },
   "outputs": [],
   "source": [
    "stockfish_path = \"C:/Users/talvesdacosta/Downloads/stockfish_13_win_x64/stockfish_13_win_x64/stockfish_13_win_x64.exe\""
   ]
  },
  {
   "cell_type": "code",
   "execution_count": 22,
   "metadata": {
    "ExecuteTime": {
     "end_time": "2021-02-26T09:48:25.888808Z",
     "start_time": "2021-02-26T09:48:25.756232Z"
    }
   },
   "outputs": [],
   "source": [
    "x = game.san_moves_stack"
   ]
  },
  {
   "cell_type": "code",
   "execution_count": 46,
   "metadata": {
    "ExecuteTime": {
     "end_time": "2021-02-26T13:00:44.182422Z",
     "start_time": "2021-02-26T13:00:29.005302Z"
    }
   },
   "outputs": [
    {
     "data": {
      "application/vnd.jupyter.widget-view+json": {
       "model_id": "26a8f451ca3648b2bfc400e05210ac97",
       "version_major": 2,
       "version_minor": 0
      },
      "text/plain": [
       "Output()"
      ]
     },
     "metadata": {},
     "output_type": "display_data"
    }
   ],
   "source": [
    "# AIs\n",
    "white = TreeSearchAI(depth = 3,breadth = 10)\n",
    "# black = TreeSearchAI(depth = 3,wait = 0.5)\n",
    "black = StockfishAI(stockfish_path,elo=1350)\n",
    "# white = StockfishAI(stockfish_path,elo=2500)\n",
    "\n",
    "\n",
    "# Humans\n",
    "# white = HumanPlayer()\n",
    "# black = HumanPlayer()\n",
    "\n",
    "# Init and run the game\n",
    "game = Game(white,black)\n",
    "# game.move(x)\n",
    "game.run()"
   ]
  },
  {
   "cell_type": "code",
   "execution_count": 45,
   "metadata": {
    "ExecuteTime": {
     "end_time": "2021-02-26T11:57:41.457936Z",
     "start_time": "2021-02-26T11:57:41.167940Z"
    }
   },
   "outputs": [
    {
     "data": {
      "application/vnd.jupyter.widget-view+json": {
       "model_id": "ca8c82ae8ee3422db7d0db3ada864272",
       "version_major": 2,
       "version_minor": 0
      },
      "text/plain": [
       "interactive(children=(Play(value=0, description='Press play', interval=500, max=123), Output()), _dom_classes=…"
      ]
     },
     "metadata": {},
     "output_type": "display_data"
    },
    {
     "data": {
      "application/vnd.jupyter.widget-view+json": {
       "model_id": "e19bbf10491945439b7bf791486e5e18",
       "version_major": 2,
       "version_minor": 0
      },
      "text/plain": [
       "IntSlider(value=0, max=123)"
      ]
     },
     "metadata": {},
     "output_type": "display_data"
    }
   ],
   "source": [
    "game.replay()"
   ]
  },
  {
   "cell_type": "code",
   "execution_count": 26,
   "metadata": {
    "ExecuteTime": {
     "end_time": "2021-02-26T09:54:27.633416Z",
     "start_time": "2021-02-26T09:54:27.490843Z"
    }
   },
   "outputs": [
    {
     "name": "stdout",
     "output_type": "stream",
     "text": [
      "Game saved as pgn file at 'PGN_beth_2021-02-26T10-54-27.pgn'\n"
     ]
    }
   ],
   "source": [
    "game.save_pgn(description = \"AI Crushed by Stockfish AI at ELO 1350\")"
   ]
  },
  {
   "cell_type": "code",
   "execution_count": 27,
   "metadata": {
    "ExecuteTime": {
     "end_time": "2021-02-26T09:54:34.412801Z",
     "start_time": "2021-02-26T09:54:34.235989Z"
    }
   },
   "outputs": [
    {
     "data": {
      "application/vnd.jupyter.widget-view+json": {
       "model_id": "7c3881e2faed4b1795888e83edd3c4ba",
       "version_major": 2,
       "version_minor": 0
      },
      "text/plain": [
       "interactive(children=(Play(value=0, description='Press play', interval=500, max=32), Output()), _dom_classes=(…"
      ]
     },
     "metadata": {},
     "output_type": "display_data"
    },
    {
     "data": {
      "application/vnd.jupyter.widget-view+json": {
       "model_id": "c4da1a25d5f64b7b97686ad99a27b686",
       "version_major": 2,
       "version_minor": 0
      },
      "text/plain": [
       "IntSlider(value=0, max=32)"
      ]
     },
     "metadata": {},
     "output_type": "display_data"
    }
   ],
   "source": [
    "game.replay()"
   ]
  },
  {
   "cell_type": "markdown",
   "metadata": {},
   "source": [
    "# Numpy repr"
   ]
  },
  {
   "cell_type": "code",
   "execution_count": 95,
   "metadata": {
    "ExecuteTime": {
     "end_time": "2021-03-01T12:23:33.283433Z",
     "start_time": "2021-03-01T12:23:33.019097Z"
    }
   },
   "outputs": [],
   "source": [
    "white = HumanPlayer()\n",
    "black = HumanPlayer()\n",
    "\n",
    "# Init and run the game\n",
    "game = Game(white,black)\n",
    "# game.move(x)\n",
    "# game.run()"
   ]
  },
  {
   "cell_type": "code",
   "execution_count": 96,
   "metadata": {
    "ExecuteTime": {
     "end_time": "2021-03-01T12:23:35.642466Z",
     "start_time": "2021-03-01T12:23:35.366945Z"
    }
   },
   "outputs": [
    {
     "ename": "AttributeError",
     "evalue": "'Game' object has no attribute 'to_array'",
     "output_type": "error",
     "traceback": [
      "\u001b[1;31m---------------------------------------------------------------------------\u001b[0m",
      "\u001b[1;31mAttributeError\u001b[0m                            Traceback (most recent call last)",
      "\u001b[1;32m<timed eval>\u001b[0m in \u001b[0;36m<module>\u001b[1;34m\u001b[0m\n",
      "\u001b[1;31mAttributeError\u001b[0m: 'Game' object has no attribute 'to_array'"
     ]
    }
   ],
   "source": [
    "%%time\n",
    "game.to_array().shape"
   ]
  },
  {
   "cell_type": "markdown",
   "metadata": {},
   "source": [
    "# Heuristics"
   ]
  },
  {
   "cell_type": "code",
   "execution_count": 90,
   "metadata": {
    "ExecuteTime": {
     "end_time": "2021-03-01T12:21:57.593231Z",
     "start_time": "2021-03-01T12:21:57.408275Z"
    }
   },
   "outputs": [],
   "source": [
    "from beth.heuristics import HEURISTICS"
   ]
  },
  {
   "cell_type": "code",
   "execution_count": 94,
   "metadata": {
    "ExecuteTime": {
     "end_time": "2021-03-01T12:22:39.722246Z",
     "start_time": "2021-03-01T12:22:39.471789Z"
    }
   },
   "outputs": [
    {
     "ename": "AttributeError",
     "evalue": "'Game' object has no attribute 'to_array'",
     "output_type": "error",
     "traceback": [
      "\u001b[1;31m---------------------------------------------------------------------------\u001b[0m",
      "\u001b[1;31mAttributeError\u001b[0m                            Traceback (most recent call last)",
      "\u001b[1;32m<ipython-input-94-252c15f86eb6>\u001b[0m in \u001b[0;36m<module>\u001b[1;34m\u001b[0m\n\u001b[1;32m----> 1\u001b[1;33m \u001b[0marr\u001b[0m \u001b[1;33m=\u001b[0m \u001b[0mgame\u001b[0m\u001b[1;33m.\u001b[0m\u001b[0mto_array\u001b[0m\u001b[1;33m(\u001b[0m\u001b[1;33m)\u001b[0m\u001b[1;33m\u001b[0m\u001b[1;33m\u001b[0m\u001b[0m\n\u001b[0m",
      "\u001b[1;31mAttributeError\u001b[0m: 'Game' object has no attribute 'to_array'"
     ]
    }
   ],
   "source": [
    "arr = game.to_array()"
   ]
  },
  {
   "cell_type": "code",
   "execution_count": null,
   "metadata": {},
   "outputs": [],
   "source": []
  }
 ],
 "metadata": {
  "kernelspec": {
   "display_name": "Python 3",
   "language": "python",
   "name": "python3"
  },
  "language_info": {
   "codemirror_mode": {
    "name": "ipython",
    "version": 3
   },
   "file_extension": ".py",
   "mimetype": "text/x-python",
   "name": "python",
   "nbconvert_exporter": "python",
   "pygments_lexer": "ipython3",
   "version": "3.7.4"
  },
  "toc": {
   "base_numbering": 1,
   "nav_menu": {},
   "number_sections": true,
   "sideBar": true,
   "skip_h1_title": false,
   "title_cell": "Table of Contents",
   "title_sidebar": "Contents",
   "toc_cell": false,
   "toc_position": {},
   "toc_section_display": true,
   "toc_window_display": true
  }
 },
 "nbformat": 4,
 "nbformat_minor": 4
}
