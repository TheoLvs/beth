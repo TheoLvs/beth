{
 "cells": [
  {
   "cell_type": "code",
   "execution_count": 1,
   "metadata": {
    "ExecuteTime": {
     "end_time": "2021-02-22T20:47:46.347018Z",
     "start_time": "2021-02-22T20:47:42.291459Z"
    }
   },
   "outputs": [],
   "source": [
    "# Base Data Science snippet\n",
    "import pandas as pd\n",
    "import numpy as np\n",
    "import matplotlib.pyplot as plt\n",
    "import os\n",
    "import time\n",
    "from tqdm import tqdm_notebook\n",
    "\n",
    "%matplotlib inline\n",
    "%load_ext autoreload\n",
    "%autoreload 2\n",
    "\n",
    "pd.set_option('display.max_rows', 500)\n",
    "pd.set_option('display.max_columns', 500)\n",
    "pd.set_option('display.width', 1000)\n",
    "\n",
    "from comet_ml import Experiment"
   ]
  },
  {
   "cell_type": "code",
   "execution_count": 2,
   "metadata": {
    "ExecuteTime": {
     "end_time": "2021-02-22T20:47:46.901866Z",
     "start_time": "2021-02-22T20:47:46.351853Z"
    }
   },
   "outputs": [],
   "source": [
    "import sys\n",
    "sys.path.append(\"../\")\n",
    "\n",
    "from beth import Game,RandomPlayer,HumanPlayer\n",
    "from beth.move import Move\n",
    "from beth.ai import TreeSearchAI\n",
    "from beth.tree import TreeSearch"
   ]
  },
  {
   "cell_type": "markdown",
   "metadata": {},
   "source": [
    "# Playground"
   ]
  },
  {
   "cell_type": "code",
   "execution_count": 8,
   "metadata": {
    "ExecuteTime": {
     "end_time": "2021-02-22T20:56:30.518288Z",
     "start_time": "2021-02-22T20:56:30.332130Z"
    }
   },
   "outputs": [],
   "source": [
    "x = game.san_moves_stack"
   ]
  },
  {
   "cell_type": "code",
   "execution_count": 9,
   "metadata": {
    "ExecuteTime": {
     "end_time": "2021-02-22T21:01:59.102847Z",
     "start_time": "2021-02-22T20:56:30.568841Z"
    }
   },
   "outputs": [
    {
     "data": {
      "application/vnd.jupyter.widget-view+json": {
       "model_id": "61c21d5a6c234f6cb4681797691bd530",
       "version_major": 2,
       "version_minor": 0
      },
      "text/plain": [
       "Output()"
      ]
     },
     "metadata": {},
     "output_type": "display_data"
    },
    {
     "name": "stdout",
     "output_type": "stream",
     "text": [
      "WHITE move: Rg5\n",
      "WHITE move: Qg5\n",
      "WHITE move: Re8\n",
      "WHITE move: Qg8\n",
      "WHITE move: Qf7\n",
      "WHITE move: Re6\n",
      "WHITE move: Qe6\n",
      "WHITE move: Qd7\n",
      "WHITE move: g4\n",
      "WHITE move: f4\n",
      "WHITE move: f5\n",
      "WHITE move: Qd4\n",
      "WHITE move: f6\n",
      "WHITE move: f7\n",
      "WHITE move: ab3\n",
      "WHITE move: Qa7\n",
      "WHITE move: Qa6\n",
      "WHITE move: Qa4\n",
      "WHITE move: Qe4\n",
      "WHITE move: Qe7\n",
      "WHITE move: Qf8\n",
      "WHITE move: Qe8\n",
      "WHITE move: f8=Q\n",
      "WHITE move: Qg6\n",
      "WHITE move: Qh8\n"
     ]
    }
   ],
   "source": [
    "# AIs\n",
    "# white = TreeSearchAI(breadth = 100,depth = 2,wait = 1)\n",
    "black = TreeSearchAI(depth = 3,wait = 0.5)\n",
    "\n",
    "# Humans\n",
    "white = HumanPlayer()\n",
    "# black = HumanPlayer()\n",
    "\n",
    "# Init and run the game\n",
    "game = Game(white,black)\n",
    "game.move(x)\n",
    "game.run()"
   ]
  },
  {
   "cell_type": "code",
   "execution_count": 10,
   "metadata": {
    "ExecuteTime": {
     "end_time": "2021-02-22T21:02:17.881310Z",
     "start_time": "2021-02-22T21:02:17.673027Z"
    }
   },
   "outputs": [
    {
     "name": "stdout",
     "output_type": "stream",
     "text": [
      "Game saved as pgn file at 'PGN_beth_2021-02-22T22-02-17.pgn'\n"
     ]
    }
   ],
   "source": [
    "game.save_pgn(description = \"Beated the hell out of this guy with depth = 3\")"
   ]
  },
  {
   "cell_type": "code",
   "execution_count": 63,
   "metadata": {
    "ExecuteTime": {
     "end_time": "2021-02-22T19:39:47.721442Z",
     "start_time": "2021-02-22T19:39:47.600271Z"
    }
   },
   "outputs": [],
   "source": [
    "from beth.tree.tree import TreeNode"
   ]
  },
  {
   "cell_type": "code",
   "execution_count": 64,
   "metadata": {
    "ExecuteTime": {
     "end_time": "2021-02-22T19:39:48.583659Z",
     "start_time": "2021-02-22T19:39:48.305800Z"
    }
   },
   "outputs": [],
   "source": [
    "node1 = TreeNode(game.board)\n",
    "node2 = TreeNode(game.board)"
   ]
  },
  {
   "cell_type": "code",
   "execution_count": 65,
   "metadata": {
    "ExecuteTime": {
     "end_time": "2021-02-22T19:39:49.195585Z",
     "start_time": "2021-02-22T19:39:48.925559Z"
    }
   },
   "outputs": [
    {
     "name": "stdout",
     "output_type": "stream",
     "text": [
      "Wall time: 153 ms\n"
     ]
    },
    {
     "data": {
      "text/plain": [
       "890"
      ]
     },
     "execution_count": 65,
     "metadata": {},
     "output_type": "execute_result"
    }
   ],
   "source": [
    "%%time\n",
    "best_score1,stack1 = node1.expand(depth = 3,pruning = True)\n",
    "len(stack1)"
   ]
  },
  {
   "cell_type": "code",
   "execution_count": 66,
   "metadata": {
    "ExecuteTime": {
     "end_time": "2021-02-22T19:40:00.564919Z",
     "start_time": "2021-02-22T19:39:54.174568Z"
    }
   },
   "outputs": [
    {
     "name": "stdout",
     "output_type": "stream",
     "text": [
      "Wall time: 6.27 s\n"
     ]
    },
    {
     "data": {
      "text/plain": [
       "32154"
      ]
     },
     "execution_count": 66,
     "metadata": {},
     "output_type": "execute_result"
    }
   ],
   "source": [
    "%%time\n",
    "best_score2,stack2 = node2.expand(depth = 3,pruning = False)\n",
    "len(stack2)"
   ]
  },
  {
   "cell_type": "code",
   "execution_count": 67,
   "metadata": {
    "ExecuteTime": {
     "end_time": "2021-02-22T19:40:03.634034Z",
     "start_time": "2021-02-22T19:40:03.526054Z"
    }
   },
   "outputs": [
    {
     "data": {
      "text/plain": [
       "[0, -1, 0, -1]"
      ]
     },
     "execution_count": 67,
     "metadata": {},
     "output_type": "execute_result"
    }
   ],
   "source": [
    "node1.trace_score"
   ]
  },
  {
   "cell_type": "code",
   "execution_count": 68,
   "metadata": {
    "ExecuteTime": {
     "end_time": "2021-02-22T19:40:04.514361Z",
     "start_time": "2021-02-22T19:40:04.402349Z"
    }
   },
   "outputs": [
    {
     "data": {
      "text/plain": [
       "[0, -1, 0, -1]"
      ]
     },
     "execution_count": 68,
     "metadata": {},
     "output_type": "execute_result"
    }
   ],
   "source": [
    "node2.trace_score"
   ]
  },
  {
   "cell_type": "code",
   "execution_count": 50,
   "metadata": {
    "ExecuteTime": {
     "end_time": "2021-02-22T19:37:49.990280Z",
     "start_time": "2021-02-22T19:37:49.867284Z"
    }
   },
   "outputs": [
    {
     "data": {
      "text/plain": [
       "0"
      ]
     },
     "execution_count": 50,
     "metadata": {},
     "output_type": "execute_result"
    }
   ],
   "source": [
    "best_score2"
   ]
  },
  {
   "cell_type": "code",
   "execution_count": null,
   "metadata": {},
   "outputs": [],
   "source": []
  }
 ],
 "metadata": {
  "kernelspec": {
   "display_name": "Python 3",
   "language": "python",
   "name": "python3"
  },
  "language_info": {
   "codemirror_mode": {
    "name": "ipython",
    "version": 3
   },
   "file_extension": ".py",
   "mimetype": "text/x-python",
   "name": "python",
   "nbconvert_exporter": "python",
   "pygments_lexer": "ipython3",
   "version": "3.7.4"
  },
  "toc": {
   "base_numbering": 1,
   "nav_menu": {},
   "number_sections": true,
   "sideBar": true,
   "skip_h1_title": false,
   "title_cell": "Table of Contents",
   "title_sidebar": "Contents",
   "toc_cell": false,
   "toc_position": {},
   "toc_section_display": true,
   "toc_window_display": true
  }
 },
 "nbformat": 4,
 "nbformat_minor": 4
}
