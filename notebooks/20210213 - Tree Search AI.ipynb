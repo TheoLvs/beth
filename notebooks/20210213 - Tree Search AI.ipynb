{
 "cells": [
  {
   "cell_type": "code",
   "execution_count": 1,
   "metadata": {
    "ExecuteTime": {
     "end_time": "2021-03-15T20:09:09.867753Z",
     "start_time": "2021-03-15T20:09:02.741608Z"
    }
   },
   "outputs": [],
   "source": [
    "# Base Data Science snippet\n",
    "import pandas as pd\n",
    "import numpy as np\n",
    "import matplotlib.pyplot as plt\n",
    "import os\n",
    "import time\n",
    "from tqdm import tqdm_notebook\n",
    "\n",
    "%matplotlib inline\n",
    "%load_ext autoreload\n",
    "%autoreload 2\n",
    "\n",
    "pd.set_option('display.max_rows', 500)\n",
    "pd.set_option('display.max_columns', 500)\n",
    "pd.set_option('display.width', 1000)\n",
    "\n",
    "from comet_ml import Experiment"
   ]
  },
  {
   "cell_type": "code",
   "execution_count": 2,
   "metadata": {
    "ExecuteTime": {
     "end_time": "2021-03-15T20:09:16.565261Z",
     "start_time": "2021-03-15T20:09:09.872914Z"
    }
   },
   "outputs": [],
   "source": [
    "import sys\n",
    "sys.path.append(\"../\")\n",
    "\n",
    "from beth import Game,RandomPlayer,HumanPlayer\n",
    "from beth.move import Move\n",
    "from beth.board import Board\n",
    "from beth.ai import TreeSearchAI,StockfishAI\n",
    "from beth.tree import TreeSearch"
   ]
  },
  {
   "cell_type": "markdown",
   "metadata": {},
   "source": [
    "# Playground"
   ]
  },
  {
   "cell_type": "code",
   "execution_count": 3,
   "metadata": {
    "ExecuteTime": {
     "end_time": "2021-03-15T20:09:47.083969Z",
     "start_time": "2021-03-15T20:09:35.792323Z"
    }
   },
   "outputs": [
    {
     "data": {
      "application/vnd.jupyter.widget-view+json": {
       "model_id": "a7e04e9d85b147a3a9699e82b73e5613",
       "version_major": 2,
       "version_minor": 0
      },
      "text/plain": [
       "Output()"
      ]
     },
     "metadata": {},
     "output_type": "display_data"
    },
    {
     "data": {
      "text/plain": [
       "0"
      ]
     },
     "execution_count": 3,
     "metadata": {},
     "output_type": "execute_result"
    }
   ],
   "source": [
    "black = RandomPlayer()\n",
    "white = RandomPlayer()\n",
    "\n",
    "game = Game(white,black)\n",
    "game.run()"
   ]
  },
  {
   "cell_type": "code",
   "execution_count": 4,
   "metadata": {
    "ExecuteTime": {
     "end_time": "2021-03-15T20:10:14.700354Z",
     "start_time": "2021-03-15T20:10:14.320888Z"
    }
   },
   "outputs": [
    {
     "name": "stdout",
     "output_type": "stream",
     "text": [
      "Game saved as pgn file at 'PGN_beth_2021-03-15T21-10-14.pgn'\n"
     ]
    }
   ],
   "source": [
    "game.save_pgn(description = \"Random Players casually playing\")"
   ]
  },
  {
   "cell_type": "code",
   "execution_count": 407,
   "metadata": {
    "ExecuteTime": {
     "end_time": "2021-03-03T15:28:06.165553Z",
     "start_time": "2021-03-03T15:28:05.675432Z"
    }
   },
   "outputs": [],
   "source": [
    "stockfish_path = \"C:/Users/talvesdacosta/Downloads/stockfish_13_win_x64/stockfish_13_win_x64/stockfish_13_win_x64.exe\""
   ]
  },
  {
   "cell_type": "code",
   "execution_count": 6,
   "metadata": {
    "ExecuteTime": {
     "end_time": "2021-03-15T20:31:25.876145Z",
     "start_time": "2021-03-15T20:31:25.671767Z"
    }
   },
   "outputs": [],
   "source": [
    "x = game.san_moves_stack"
   ]
  },
  {
   "cell_type": "code",
   "execution_count": 8,
   "metadata": {
    "ExecuteTime": {
     "end_time": "2021-03-15T20:58:33.304883Z",
     "start_time": "2021-03-15T20:51:00.335389Z"
    }
   },
   "outputs": [
    {
     "data": {
      "application/vnd.jupyter.widget-view+json": {
       "model_id": "28b6bd248cc846f995ff425c8916e843",
       "version_major": 2,
       "version_minor": 0
      },
      "text/plain": [
       "Output()"
      ]
     },
     "metadata": {},
     "output_type": "display_data"
    },
    {
     "name": "stdout",
     "output_type": "stream",
     "text": [
      "WHITE move: e4\n",
      "WHITE move: Nf3\n",
      "WHITE move: d3\n",
      "WHITE move: Bg5\n",
      "WHITE move: Nc3\n",
      "WHITE move: Bd8\n",
      "WHITE move: c3\n",
      "WHITE move: Bg5\n",
      "WHITE move: d4\n",
      "WHITE move: d4\n",
      "WHITE move: Rb1\n",
      "WHITE move: Nd4\n",
      "WHITE move: Rb7\n",
      "WHITE move: Ne6\n",
      "WHITE move: Be2\n",
      "WHITE move: Kf2\n",
      "WHITE move: Re1\n",
      "WHITE move: Rc7\n",
      "WHITE move: d3\n",
      "WHITE move: Re2\n",
      "WHITE move: Qe2\n",
      "WHITE move: Qe4\n",
      "WHITE move: Rc8\n",
      "WHITE move: Qe8\n"
     ]
    },
    {
     "data": {
      "text/plain": [
       "1"
      ]
     },
     "execution_count": 8,
     "metadata": {},
     "output_type": "execute_result"
    }
   ],
   "source": [
    "# AIs\n",
    "black = TreeSearchAI(depth = 5,breadth = 15,max_time = 5)\n",
    "# black = StockfishAI(stockfish_path,elo=1350)\n",
    "\n",
    "# Humans\n",
    "white = HumanPlayer()\n",
    "\n",
    "# Init and run the game\n",
    "game = Game(white,black)\n",
    "# game.move(x)\n",
    "game.run()\n"
   ]
  },
  {
   "cell_type": "code",
   "execution_count": null,
   "metadata": {
    "ExecuteTime": {
     "start_time": "2021-03-03T15:29:43.659Z"
    }
   },
   "outputs": [
    {
     "data": {
      "application/vnd.jupyter.widget-view+json": {
       "model_id": "a1ed8fea429d410688b0af4998fe9d35",
       "version_major": 2,
       "version_minor": 0
      },
      "text/plain": [
       "Output()"
      ]
     },
     "metadata": {},
     "output_type": "display_data"
    },
    {
     "name": "stdout",
     "output_type": "stream",
     "text": [
      "-1\n"
     ]
    },
    {
     "data": {
      "application/vnd.jupyter.widget-view+json": {
       "model_id": "1acbb6fd5d0743adbd66a542cc173595",
       "version_major": 2,
       "version_minor": 0
      },
      "text/plain": [
       "Output()"
      ]
     },
     "metadata": {},
     "output_type": "display_data"
    },
    {
     "name": "stdout",
     "output_type": "stream",
     "text": [
      "-1\n"
     ]
    },
    {
     "data": {
      "application/vnd.jupyter.widget-view+json": {
       "model_id": "e4096e7af8624535b95062798bd9387e",
       "version_major": 2,
       "version_minor": 0
      },
      "text/plain": [
       "Output()"
      ]
     },
     "metadata": {},
     "output_type": "display_data"
    },
    {
     "name": "stdout",
     "output_type": "stream",
     "text": [
      "-1\n"
     ]
    },
    {
     "data": {
      "application/vnd.jupyter.widget-view+json": {
       "model_id": "597e6db4077d4a2a8d1b2210364aa3ff",
       "version_major": 2,
       "version_minor": 0
      },
      "text/plain": [
       "Output()"
      ]
     },
     "metadata": {},
     "output_type": "display_data"
    },
    {
     "name": "stdout",
     "output_type": "stream",
     "text": [
      "-1\n"
     ]
    },
    {
     "data": {
      "application/vnd.jupyter.widget-view+json": {
       "model_id": "d8925dd05ae14533a73f8d2ddb791152",
       "version_major": 2,
       "version_minor": 0
      },
      "text/plain": [
       "Output()"
      ]
     },
     "metadata": {},
     "output_type": "display_data"
    }
   ],
   "source": [
    "for i in range(10):\n",
    "    \n",
    "    # AIs\n",
    "    white = TreeSearchAI(depth = 5,breadth = 10,max_time = 2)\n",
    "    black = StockfishAI(stockfish_path,level=1,limit = 0.1)\n",
    "\n",
    "    # Init and run the game\n",
    "    game = Game(white,black)\n",
    "    score = game.run(render = False)\n",
    "    print(score)\n",
    "    \n",
    "for i in range(10):\n",
    "    \n",
    "    # AIs\n",
    "    white = TreeSearchAI(depth = 5,breadth = 10,max_time = 2)\n",
    "    black = StockfishAI(stockfish_path,level=2,limit = 0.1)\n",
    "\n",
    "    # Init and run the game\n",
    "    game = Game(white,black)\n",
    "    score = game.run(render = False)\n",
    "    print(score)"
   ]
  }
 ],
 "metadata": {
  "kernelspec": {
   "display_name": "Python 3",
   "language": "python",
   "name": "python3"
  },
  "language_info": {
   "codemirror_mode": {
    "name": "ipython",
    "version": 3
   },
   "file_extension": ".py",
   "mimetype": "text/x-python",
   "name": "python",
   "nbconvert_exporter": "python",
   "pygments_lexer": "ipython3",
   "version": "3.7.4"
  },
  "toc": {
   "base_numbering": 1,
   "nav_menu": {},
   "number_sections": true,
   "sideBar": true,
   "skip_h1_title": false,
   "title_cell": "Table of Contents",
   "title_sidebar": "Contents",
   "toc_cell": false,
   "toc_position": {},
   "toc_section_display": true,
   "toc_window_display": true
  }
 },
 "nbformat": 4,
 "nbformat_minor": 4
}
