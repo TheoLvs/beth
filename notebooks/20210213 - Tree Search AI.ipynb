{
 "cells": [
  {
   "cell_type": "code",
   "execution_count": 1,
   "metadata": {
    "ExecuteTime": {
     "end_time": "2021-03-03T10:36:54.211006Z",
     "start_time": "2021-03-03T10:36:48.858991Z"
    }
   },
   "outputs": [],
   "source": [
    "# Base Data Science snippet\n",
    "import pandas as pd\n",
    "import numpy as np\n",
    "import matplotlib.pyplot as plt\n",
    "import os\n",
    "import time\n",
    "from tqdm import tqdm_notebook\n",
    "\n",
    "%matplotlib inline\n",
    "%load_ext autoreload\n",
    "%autoreload 2\n",
    "\n",
    "pd.set_option('display.max_rows', 500)\n",
    "pd.set_option('display.max_columns', 500)\n",
    "pd.set_option('display.width', 1000)\n",
    "\n",
    "from comet_ml import Experiment"
   ]
  },
  {
   "cell_type": "code",
   "execution_count": 2,
   "metadata": {
    "ExecuteTime": {
     "end_time": "2021-03-03T10:36:59.588953Z",
     "start_time": "2021-03-03T10:36:54.213287Z"
    }
   },
   "outputs": [],
   "source": [
    "import sys\n",
    "sys.path.append(\"../\")\n",
    "\n",
    "from beth import Game,RandomPlayer,HumanPlayer\n",
    "from beth.move import Move\n",
    "from beth.board import Board\n",
    "from beth.ai import TreeSearchAI,StockfishAI\n",
    "from beth.tree import TreeSearch"
   ]
  },
  {
   "cell_type": "markdown",
   "metadata": {},
   "source": [
    "# Playground"
   ]
  },
  {
   "cell_type": "code",
   "execution_count": 407,
   "metadata": {
    "ExecuteTime": {
     "end_time": "2021-03-03T15:28:06.165553Z",
     "start_time": "2021-03-03T15:28:05.675432Z"
    }
   },
   "outputs": [],
   "source": [
    "stockfish_path = \"C:/Users/talvesdacosta/Downloads/stockfish_13_win_x64/stockfish_13_win_x64/stockfish_13_win_x64.exe\""
   ]
  },
  {
   "cell_type": "code",
   "execution_count": 64,
   "metadata": {
    "ExecuteTime": {
     "end_time": "2021-03-03T01:50:13.186919Z",
     "start_time": "2021-03-03T01:50:13.020922Z"
    }
   },
   "outputs": [
    {
     "data": {
      "text/plain": [
       "[4.0,\n",
       " -5.0,\n",
       " 2.0,\n",
       " -5.0,\n",
       " 5.0,\n",
       " -4.0,\n",
       " 4.0,\n",
       " -4.0,\n",
       " -1.5,\n",
       " -3.5,\n",
       " 5.5,\n",
       " -2.0,\n",
       " 1.5,\n",
       " -2.0,\n",
       " 1.5,\n",
       " -1.0,\n",
       " 6.0,\n",
       " -5.5,\n",
       " 3.0,\n",
       " -3.0,\n",
       " 1.0,\n",
       " -6.0,\n",
       " 7.0,\n",
       " 0.0,\n",
       " 3.0,\n",
       " -2.0,\n",
       " 5.0,\n",
       " -1.0]"
      ]
     },
     "execution_count": 64,
     "metadata": {},
     "output_type": "execute_result"
    }
   ],
   "source": [
    "# AIs\n",
    "black = TreeSearchAI(depth = 5,breadth = 10,max_time = 5)\n",
    "# black = TreeSearchAI(depth = 3,wait = 0.5,breadth = 10)\n",
    "# # black = StockfishAI(stockfish_path,elo=1350)\n",
    "# white = StockfishAI(stockfish_path,level=1,limit = 0.01)\n",
    "# black = StockfishAI(stockfish_path,level=1,limit = 0.01)\n",
    "\n",
    "\n",
    "# # Humans\n",
    "white = HumanPlayer()\n",
    "# black = HumanPlayer()\n",
    "\n",
    "# Init and run the game\n",
    "game = Game(white,black)\n",
    "game.move(x)"
   ]
  },
  {
   "cell_type": "code",
   "execution_count": null,
   "metadata": {
    "ExecuteTime": {
     "start_time": "2021-03-03T15:29:43.659Z"
    }
   },
   "outputs": [
    {
     "data": {
      "application/vnd.jupyter.widget-view+json": {
       "model_id": "a1ed8fea429d410688b0af4998fe9d35",
       "version_major": 2,
       "version_minor": 0
      },
      "text/plain": [
       "Output()"
      ]
     },
     "metadata": {},
     "output_type": "display_data"
    },
    {
     "name": "stdout",
     "output_type": "stream",
     "text": [
      "-1\n"
     ]
    },
    {
     "data": {
      "application/vnd.jupyter.widget-view+json": {
       "model_id": "1acbb6fd5d0743adbd66a542cc173595",
       "version_major": 2,
       "version_minor": 0
      },
      "text/plain": [
       "Output()"
      ]
     },
     "metadata": {},
     "output_type": "display_data"
    },
    {
     "name": "stdout",
     "output_type": "stream",
     "text": [
      "-1\n"
     ]
    },
    {
     "data": {
      "application/vnd.jupyter.widget-view+json": {
       "model_id": "e4096e7af8624535b95062798bd9387e",
       "version_major": 2,
       "version_minor": 0
      },
      "text/plain": [
       "Output()"
      ]
     },
     "metadata": {},
     "output_type": "display_data"
    },
    {
     "name": "stdout",
     "output_type": "stream",
     "text": [
      "-1\n"
     ]
    },
    {
     "data": {
      "application/vnd.jupyter.widget-view+json": {
       "model_id": "597e6db4077d4a2a8d1b2210364aa3ff",
       "version_major": 2,
       "version_minor": 0
      },
      "text/plain": [
       "Output()"
      ]
     },
     "metadata": {},
     "output_type": "display_data"
    },
    {
     "name": "stdout",
     "output_type": "stream",
     "text": [
      "-1\n"
     ]
    },
    {
     "data": {
      "application/vnd.jupyter.widget-view+json": {
       "model_id": "d8925dd05ae14533a73f8d2ddb791152",
       "version_major": 2,
       "version_minor": 0
      },
      "text/plain": [
       "Output()"
      ]
     },
     "metadata": {},
     "output_type": "display_data"
    }
   ],
   "source": [
    "for i in range(10):\n",
    "    \n",
    "    # AIs\n",
    "    white = TreeSearchAI(depth = 5,breadth = 10,max_time = 2)\n",
    "    black = StockfishAI(stockfish_path,level=1,limit = 0.1)\n",
    "\n",
    "    # Init and run the game\n",
    "    game = Game(white,black)\n",
    "    score = game.run(render = False)\n",
    "    print(score)\n",
    "    \n",
    "for i in range(10):\n",
    "    \n",
    "    # AIs\n",
    "    white = TreeSearchAI(depth = 5,breadth = 10,max_time = 2)\n",
    "    black = StockfishAI(stockfish_path,level=2,limit = 0.1)\n",
    "\n",
    "    # Init and run the game\n",
    "    game = Game(white,black)\n",
    "    score = game.run(render = False)\n",
    "    print(score)"
   ]
  }
 ],
 "metadata": {
  "kernelspec": {
   "display_name": "Python 3",
   "language": "python",
   "name": "python3"
  },
  "language_info": {
   "codemirror_mode": {
    "name": "ipython",
    "version": 3
   },
   "file_extension": ".py",
   "mimetype": "text/x-python",
   "name": "python",
   "nbconvert_exporter": "python",
   "pygments_lexer": "ipython3",
   "version": "3.7.4"
  },
  "toc": {
   "base_numbering": 1,
   "nav_menu": {},
   "number_sections": true,
   "sideBar": true,
   "skip_h1_title": false,
   "title_cell": "Table of Contents",
   "title_sidebar": "Contents",
   "toc_cell": false,
   "toc_position": {},
   "toc_section_display": true,
   "toc_window_display": true
  }
 },
 "nbformat": 4,
 "nbformat_minor": 4
}
