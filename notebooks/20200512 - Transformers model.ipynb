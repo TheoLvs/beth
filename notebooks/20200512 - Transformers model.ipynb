{
 "cells": [
  {
   "cell_type": "code",
   "execution_count": 50,
   "metadata": {
    "ExecuteTime": {
     "end_time": "2021-01-01T19:40:08.348791Z",
     "start_time": "2021-01-01T19:40:07.044650Z"
    }
   },
   "outputs": [
    {
     "name": "stdout",
     "output_type": "stream",
     "text": [
      "The autoreload extension is already loaded. To reload it, use:\n",
      "  %reload_ext autoreload\n"
     ]
    }
   ],
   "source": [
    "# Base Data Science snippet\n",
    "import pandas as pd\n",
    "import numpy as np\n",
    "import matplotlib.pyplot as plt\n",
    "import os\n",
    "import time\n",
    "from tqdm import tqdm_notebook\n",
    "\n",
    "%matplotlib inline\n",
    "%load_ext autoreload\n",
    "%autoreload 2\n",
    "\n",
    "from comet_ml import Experiment"
   ]
  },
  {
   "cell_type": "code",
   "execution_count": 51,
   "metadata": {
    "ExecuteTime": {
     "end_time": "2021-01-01T19:40:08.615116Z",
     "start_time": "2021-01-01T19:40:08.351783Z"
    }
   },
   "outputs": [],
   "source": [
    "import sys\n",
    "sys.path.append(\"../\")\n",
    "\n",
    "from beth.game import Game\n",
    "from beth.players.random_player import RandomPlayer\n",
    "from beth.players.human_player import HumanPlayer\n",
    "from beth.players.sequence import SequenceGame,SequencePlayer"
   ]
  },
  {
   "cell_type": "markdown",
   "metadata": {},
   "source": [
    "# Playground"
   ]
  },
  {
   "cell_type": "code",
   "execution_count": 60,
   "metadata": {
    "ExecuteTime": {
     "end_time": "2021-01-01T20:15:31.144512Z",
     "start_time": "2021-01-01T20:15:30.696654Z"
    }
   },
   "outputs": [],
   "source": [
    "black = RandomPlayer()\n",
    "white = RandomPlayer()\n",
    "\n",
    "# white = HumanPlayer()\n",
    "# black = HumanPlayer()\n",
    "\n",
    "game = Game(white,black)"
   ]
  },
  {
   "cell_type": "code",
   "execution_count": 58,
   "metadata": {
    "ExecuteTime": {
     "end_time": "2021-01-01T19:40:34.932987Z",
     "start_time": "2021-01-01T19:40:34.645179Z"
    }
   },
   "outputs": [
    {
     "data": {
      "application/vnd.jupyter.widget-view+json": {
       "model_id": "82db8f27488b4ef8b0e9180bb538e29f",
       "version_major": 2,
       "version_minor": 0
      },
      "text/plain": [
       "Output()"
      ]
     },
     "metadata": {},
     "output_type": "display_data"
    }
   ],
   "source": [
    "game.reset_game()\n",
    "game.run()"
   ]
  },
  {
   "cell_type": "markdown",
   "metadata": {},
   "source": [
    "# Experiment using Transformers\n",
    "https://pytorch.org/tutorials/beginner/transformer_tutorial.html"
   ]
  },
  {
   "cell_type": "code",
   "execution_count": 29,
   "metadata": {
    "ExecuteTime": {
     "end_time": "2020-12-29T19:00:28.680965Z",
     "start_time": "2020-12-29T19:00:28.553191Z"
    }
   },
   "outputs": [],
   "source": [
    "from beth.models.dataset import Dataset\n",
    "from beth.utils import make_experiment\n",
    "from beth.models.lstm import LSTMModel\n",
    "from beth.players.ai_player import AIPlayer"
   ]
  },
  {
   "cell_type": "markdown",
   "metadata": {},
   "source": [
    "## Init classes"
   ]
  },
  {
   "cell_type": "code",
   "execution_count": 30,
   "metadata": {
    "ExecuteTime": {
     "end_time": "2020-12-29T19:00:29.369468Z",
     "start_time": "2020-12-29T19:00:29.026509Z"
    }
   },
   "outputs": [
    {
     "data": {
      "text/plain": [
       "0    start d4 d5 c4 c6 cxd5 e6 dxe6 fxe6 Nf3 Bb4+ N...\n",
       "1    start d4 Nc6 e4 e5 f4 f6 dxe5 fxe5 fxe5 Nxe5 Q...\n",
       "2    start e4 e5 d3 d6 Be3 c6 Be2 b5 Nd2 a5 a4 c5 a...\n",
       "3    start d4 d5 Nf3 Bf5 Nc3 Nf6 Bf4 Ng4 e3 Nc6 Be2...\n",
       "4    start e4 e5 Nf3 d6 d4 Nc6 d5 Nb4 a3 Na6 Nc3 Be...\n",
       "Name: moves, dtype: object"
      ]
     },
     "execution_count": 30,
     "metadata": {},
     "output_type": "execute_result"
    }
   ],
   "source": [
    "games = pd.read_csv(\"../data/raw/kaggle/games.csv\")\n",
    "moves = \"start \" + games[\"moves\"]\n",
    "moves.head()"
   ]
  },
  {
   "cell_type": "code",
   "execution_count": 31,
   "metadata": {
    "ExecuteTime": {
     "end_time": "2020-12-29T19:00:29.511092Z",
     "start_time": "2020-12-29T19:00:29.372464Z"
    }
   },
   "outputs": [
    {
     "data": {
      "text/plain": [
       "'start d4 d5 c4 c6 cxd5 e6 dxe6 fxe6 Nf3 Bb4+ Nc3 Ba5 Bf4'"
      ]
     },
     "execution_count": 31,
     "metadata": {},
     "output_type": "execute_result"
    }
   ],
   "source": [
    "moves[0]"
   ]
  },
  {
   "cell_type": "code",
   "execution_count": 32,
   "metadata": {
    "ExecuteTime": {
     "end_time": "2020-12-29T19:00:30.089343Z",
     "start_time": "2020-12-29T19:00:29.592994Z"
    }
   },
   "outputs": [],
   "source": [
    "dataset = Dataset(moves)"
   ]
  },
  {
   "cell_type": "code",
   "execution_count": 33,
   "metadata": {
    "ExecuteTime": {
     "end_time": "2020-12-29T19:00:30.229968Z",
     "start_time": "2020-12-29T19:00:30.091339Z"
    }
   },
   "outputs": [
    {
     "data": {
      "text/plain": [
       "4448"
      ]
     },
     "execution_count": 33,
     "metadata": {},
     "output_type": "execute_result"
    }
   ],
   "source": [
    "len(dataset.uniq_words)"
   ]
  },
  {
   "cell_type": "markdown",
   "metadata": {},
   "source": [
    "## Train loop"
   ]
  },
  {
   "cell_type": "code",
   "execution_count": 37,
   "metadata": {
    "ExecuteTime": {
     "end_time": "2020-12-20T16:15:17.670490Z",
     "start_time": "2020-12-20T16:15:10.215413Z"
    }
   },
   "outputs": [
    {
     "name": "stderr",
     "output_type": "stream",
     "text": [
      "COMET INFO: Experiment is live on comet.ml https://www.comet.ml/theolvs/beth/2f28f4cbecb646179c6a3d4a0ca2b444\n",
      "\n"
     ]
    }
   ],
   "source": [
    "experiment = make_experiment(\"../.env\",\"Simple LSTM\",[\"NLP\",\"LSTM\"])"
   ]
  },
  {
   "cell_type": "code",
   "execution_count": 38,
   "metadata": {
    "ExecuteTime": {
     "end_time": "2020-12-20T16:15:19.723669Z",
     "start_time": "2020-12-20T16:15:19.587070Z"
    }
   },
   "outputs": [],
   "source": [
    "params = {\n",
    "    \"sequence_length\":10,\n",
    "    \"batch_size\":32,\n",
    "    \"max_epochs\":1,\n",
    "    \"lr\":0.01,\n",
    "    \"lstm_size\":128,\n",
    "    \"embedding_dim\":128,\n",
    "    \"num_layers\":3,\n",
    "}"
   ]
  },
  {
   "cell_type": "code",
   "execution_count": 39,
   "metadata": {
    "ExecuteTime": {
     "end_time": "2020-12-20T16:15:23.110761Z",
     "start_time": "2020-12-20T16:15:22.973014Z"
    }
   },
   "outputs": [],
   "source": [
    "model = LSTMModel(dataset,**params)"
   ]
  },
  {
   "cell_type": "code",
   "execution_count": 40,
   "metadata": {
    "ExecuteTime": {
     "end_time": "2020-12-20T16:41:04.054993Z",
     "start_time": "2020-12-20T16:15:28.469799Z"
    }
   },
   "outputs": [
    {
     "data": {
      "application/vnd.jupyter.widget-view+json": {
       "model_id": "8d2f25ef60ce4acc87ddc83eb2fc64e2",
       "version_major": 2,
       "version_minor": 0
      },
      "text/plain": [
       "HBox(children=(FloatProgress(value=0.0, description='Epoch 0', max=38528.0, style=ProgressStyle(description_wi…"
      ]
     },
     "metadata": {},
     "output_type": "display_data"
    },
    {
     "name": "stdout",
     "output_type": "stream",
     "text": [
      "\n",
      "... Stopped training in notebook\n"
     ]
    }
   ],
   "source": [
    "experiment.log_parameters(params)\n",
    "model.fit(**params)\n",
    "# experiment.end()"
   ]
  },
  {
   "cell_type": "code",
   "execution_count": 41,
   "metadata": {
    "ExecuteTime": {
     "end_time": "2020-12-20T16:41:23.727472Z",
     "start_time": "2020-12-20T16:41:23.532699Z"
    }
   },
   "outputs": [],
   "source": [
    "model.save_weights(\"lstm_20122020.pth\")"
   ]
  },
  {
   "cell_type": "code",
   "execution_count": 42,
   "metadata": {
    "ExecuteTime": {
     "end_time": "2020-12-20T16:41:45.637503Z",
     "start_time": "2020-12-20T16:41:45.494884Z"
    }
   },
   "outputs": [
    {
     "data": {
      "text/plain": [
       "{'web': 'https://www.comet.ml/api/asset/download?assetId=288a9cff5cf546748396d233c2cd1429&experimentKey=2f28f4cbecb646179c6a3d4a0ca2b444',\n",
       " 'api': 'https://www.comet.ml/api/rest/v2/experiment/asset/get-asset?assetId=288a9cff5cf546748396d233c2cd1429&experimentKey=2f28f4cbecb646179c6a3d4a0ca2b444',\n",
       " 'assetId': '288a9cff5cf546748396d233c2cd1429'}"
      ]
     },
     "execution_count": 42,
     "metadata": {},
     "output_type": "execute_result"
    }
   ],
   "source": [
    "experiment.log_text(\"Learning rate does not seem to accelerate anything here, let's stick to around 0.001\")"
   ]
  },
  {
   "cell_type": "code",
   "execution_count": 43,
   "metadata": {
    "ExecuteTime": {
     "end_time": "2020-12-20T16:41:51.942293Z",
     "start_time": "2020-12-20T16:41:49.846590Z"
    }
   },
   "outputs": [
    {
     "name": "stderr",
     "output_type": "stream",
     "text": [
      "COMET INFO: ---------------------------\n",
      "COMET INFO: Comet.ml Experiment Summary\n",
      "COMET INFO: ---------------------------\n",
      "COMET INFO:   Data:\n",
      "COMET INFO:     display_summary_level : 1\n",
      "COMET INFO:     url                   : https://www.comet.ml/theolvs/beth/2f28f4cbecb646179c6a3d4a0ca2b444\n",
      "COMET INFO:   Metrics [count] (min, max):\n",
      "COMET INFO:     loss [1242] : (3.267238140106201, 8.412087440490723)\n",
      "COMET INFO:   Others:\n",
      "COMET INFO:     Name : Simple LSTM\n",
      "COMET INFO:   Parameters:\n",
      "COMET INFO:     batch_size      : 32\n",
      "COMET INFO:     embedding_dim   : 128\n",
      "COMET INFO:     lr              : 0.01\n",
      "COMET INFO:     lstm_size       : 128\n",
      "COMET INFO:     max_epochs      : 1\n",
      "COMET INFO:     num_layers      : 3\n",
      "COMET INFO:     sequence_length : 10\n",
      "COMET INFO:   Uploads:\n",
      "COMET INFO:     code                     : 1 (3 KB)\n",
      "COMET INFO:     environment details      : 1\n",
      "COMET INFO:     filename                 : 1\n",
      "COMET INFO:     git metadata             : 1\n",
      "COMET INFO:     git-patch (uncompressed) : 1 (14 MB)\n",
      "COMET INFO:     installed packages       : 1\n",
      "COMET INFO:     model graph              : 1\n",
      "COMET INFO:     notebook                 : 1\n",
      "COMET INFO:     text-sample              : 1\n",
      "COMET INFO: ---------------------------\n",
      "COMET INFO: Still uploading\n"
     ]
    }
   ],
   "source": [
    "experiment.end()"
   ]
  },
  {
   "cell_type": "code",
   "execution_count": 136,
   "metadata": {
    "ExecuteTime": {
     "end_time": "2020-12-20T17:48:27.206747Z",
     "start_time": "2020-12-20T17:48:26.834110Z"
    }
   },
   "outputs": [],
   "source": [
    "p = model.predict(\"start\",1,as_proba = True)"
   ]
  },
  {
   "cell_type": "code",
   "execution_count": 137,
   "metadata": {
    "ExecuteTime": {
     "end_time": "2020-12-20T17:48:30.244497Z",
     "start_time": "2020-12-20T17:48:30.049136Z"
    }
   },
   "outputs": [
    {
     "data": {
      "text/html": [
       "<div>\n",
       "<style scoped>\n",
       "    .dataframe tbody tr th:only-of-type {\n",
       "        vertical-align: middle;\n",
       "    }\n",
       "\n",
       "    .dataframe tbody tr th {\n",
       "        vertical-align: top;\n",
       "    }\n",
       "\n",
       "    .dataframe thead th {\n",
       "        text-align: right;\n",
       "    }\n",
       "</style>\n",
       "<table border=\"1\" class=\"dataframe\">\n",
       "  <thead>\n",
       "    <tr style=\"text-align: right;\">\n",
       "      <th></th>\n",
       "      <th>0</th>\n",
       "    </tr>\n",
       "  </thead>\n",
       "  <tbody>\n",
       "    <tr>\n",
       "      <th>O-O</th>\n",
       "      <td>8.900061e-04</td>\n",
       "    </tr>\n",
       "    <tr>\n",
       "      <th>start</th>\n",
       "      <td>5.253599e-04</td>\n",
       "    </tr>\n",
       "    <tr>\n",
       "      <th>Nf3</th>\n",
       "      <td>1.236997e-01</td>\n",
       "    </tr>\n",
       "    <tr>\n",
       "      <th>e4</th>\n",
       "      <td>2.231918e-01</td>\n",
       "    </tr>\n",
       "    <tr>\n",
       "      <th>Nf6</th>\n",
       "      <td>1.312937e-07</td>\n",
       "    </tr>\n",
       "    <tr>\n",
       "      <th>...</th>\n",
       "      <td>...</td>\n",
       "    </tr>\n",
       "    <tr>\n",
       "      <th>Rexe1+</th>\n",
       "      <td>5.741276e-13</td>\n",
       "    </tr>\n",
       "    <tr>\n",
       "      <th>R5a2</th>\n",
       "      <td>1.169191e-12</td>\n",
       "    </tr>\n",
       "    <tr>\n",
       "      <th>e5#</th>\n",
       "      <td>7.000148e-13</td>\n",
       "    </tr>\n",
       "    <tr>\n",
       "      <th>R1g6+</th>\n",
       "      <td>1.899962e-12</td>\n",
       "    </tr>\n",
       "    <tr>\n",
       "      <th>g8=N+</th>\n",
       "      <td>1.019145e-12</td>\n",
       "    </tr>\n",
       "  </tbody>\n",
       "</table>\n",
       "<p>4448 rows × 1 columns</p>\n",
       "</div>"
      ],
      "text/plain": [
       "                   0\n",
       "O-O     8.900061e-04\n",
       "start   5.253599e-04\n",
       "Nf3     1.236997e-01\n",
       "e4      2.231918e-01\n",
       "Nf6     1.312937e-07\n",
       "...              ...\n",
       "Rexe1+  5.741276e-13\n",
       "R5a2    1.169191e-12\n",
       "e5#     7.000148e-13\n",
       "R1g6+   1.899962e-12\n",
       "g8=N+   1.019145e-12\n",
       "\n",
       "[4448 rows x 1 columns]"
      ]
     },
     "execution_count": 137,
     "metadata": {},
     "output_type": "execute_result"
    }
   ],
   "source": [
    "p"
   ]
  },
  {
   "cell_type": "code",
   "execution_count": 48,
   "metadata": {
    "ExecuteTime": {
     "end_time": "2020-12-20T16:42:27.758099Z",
     "start_time": "2020-12-20T16:42:27.592625Z"
    }
   },
   "outputs": [
    {
     "data": {
      "text/plain": [
       "e5     0.081328\n",
       "c5     0.065016\n",
       "d5     0.050288\n",
       "Nf3    0.043862\n",
       "f4     0.026393\n",
       "Nc3    0.025715\n",
       "c4     0.021629\n",
       "Nc6    0.019267\n",
       "c3     0.018952\n",
       "e6     0.018057\n",
       "Name: 0, dtype: float64"
      ]
     },
     "execution_count": 48,
     "metadata": {},
     "output_type": "execute_result"
    }
   ],
   "source": [
    "p[0].sort_values(ascending = False).head(10)"
   ]
  },
  {
   "cell_type": "markdown",
   "metadata": {},
   "source": [
    "## Test in games"
   ]
  },
  {
   "cell_type": "code",
   "execution_count": 38,
   "metadata": {
    "ExecuteTime": {
     "end_time": "2020-12-29T19:01:50.232136Z",
     "start_time": "2020-12-29T19:01:50.089987Z"
    }
   },
   "outputs": [],
   "source": [
    "model = LSTMModel(dataset)"
   ]
  },
  {
   "cell_type": "code",
   "execution_count": 39,
   "metadata": {
    "ExecuteTime": {
     "end_time": "2020-12-29T19:01:50.564465Z",
     "start_time": "2020-12-29T19:01:50.396786Z"
    }
   },
   "outputs": [],
   "source": [
    "model.load_weights(\"lstm_20122020.pth\")"
   ]
  },
  {
   "cell_type": "code",
   "execution_count": 42,
   "metadata": {
    "ExecuteTime": {
     "end_time": "2020-12-29T19:02:20.590211Z",
     "start_time": "2020-12-29T19:02:20.456392Z"
    }
   },
   "outputs": [],
   "source": [
    "# black = RandomPlayer()\n",
    "# white = RandomPlayer()\n",
    "\n",
    "white = AIPlayer(brain=model)\n",
    "# black = AIPlayer(brain=model)\n",
    "\n",
    "# white = HumanPlayer()\n",
    "black = HumanPlayer()\n",
    "\n",
    "game = Game(white,black)"
   ]
  },
  {
   "cell_type": "code",
   "execution_count": 43,
   "metadata": {
    "ExecuteTime": {
     "end_time": "2020-12-29T19:02:48.177264Z",
     "start_time": "2020-12-29T19:02:20.801256Z"
    }
   },
   "outputs": [
    {
     "data": {
      "application/vnd.jupyter.widget-view+json": {
       "model_id": "d53df0df2b7c42cda1968a71cd3c591b",
       "version_major": 2,
       "version_minor": 0
      },
      "text/plain": [
       "Output()"
      ]
     },
     "metadata": {},
     "output_type": "display_data"
    },
    {
     "name": "stdout",
     "output_type": "stream",
     "text": [
      "BLACK move: e5\n",
      "BLACK move: d5\n",
      "BLACK move: e4\n",
      "BLACK move: exit\n"
     ]
    }
   ],
   "source": [
    "game.run()"
   ]
  },
  {
   "cell_type": "code",
   "execution_count": 118,
   "metadata": {
    "ExecuteTime": {
     "end_time": "2020-12-20T17:22:19.919576Z",
     "start_time": "2020-12-20T17:22:19.584849Z"
    }
   },
   "outputs": [],
   "source": [
    "p = model.predict_next(game)[0]"
   ]
  },
  {
   "cell_type": "code",
   "execution_count": 126,
   "metadata": {
    "ExecuteTime": {
     "end_time": "2020-12-20T17:25:21.712466Z",
     "start_time": "2020-12-20T17:25:21.560712Z"
    }
   },
   "outputs": [
    {
     "data": {
      "text/plain": [
       "c5      0.021046\n",
       "exd4    0.018118\n",
       "d5      0.014802\n",
       "Nd5     0.012906\n",
       "a6      0.008370\n",
       "Nc6     0.008196\n",
       "b6      0.008127\n",
       "d6      0.007369\n",
       "a5      0.006705\n",
       "b5      0.006517\n",
       "h5      0.006318\n",
       "g5      0.005129\n",
       "c6      0.004801\n",
       "Nxe4    0.003987\n",
       "Bd6     0.003517\n",
       "h6      0.002916\n",
       "g6      0.002523\n",
       "Bb4+    0.001906\n",
       "Ng4     0.001771\n",
       "Bc5     0.001545\n",
       "Qe7     0.001522\n",
       "Be7     0.001458\n",
       "Nh5     0.000916\n",
       "Ba3     0.000718\n",
       "Na6     0.000466\n",
       "Ke7     0.000290\n",
       "Rg8     0.000162\n",
       "Ng8     0.000003\n",
       "Name: 0, dtype: float64"
      ]
     },
     "execution_count": 126,
     "metadata": {},
     "output_type": "execute_result"
    }
   ],
   "source": [
    "p.loc[game.get_legal_moves_san()].sort_values(ascending = False)"
   ]
  },
  {
   "cell_type": "code",
   "execution_count": 67,
   "metadata": {
    "ExecuteTime": {
     "end_time": "2020-12-20T17:03:10.050656Z",
     "start_time": "2020-12-20T17:03:09.905155Z"
    }
   },
   "outputs": [
    {
     "data": {
      "text/plain": [
       "Move.from_uci('e2e4')"
      ]
     },
     "execution_count": 67,
     "metadata": {},
     "output_type": "execute_result"
    }
   ],
   "source": [
    "stack[0]"
   ]
  },
  {
   "cell_type": "code",
   "execution_count": 68,
   "metadata": {
    "ExecuteTime": {
     "end_time": "2020-12-20T17:03:16.283742Z",
     "start_time": "2020-12-20T17:03:16.141911Z"
    }
   },
   "outputs": [],
   "source": [
    "x = stack[0]"
   ]
  },
  {
   "cell_type": "code",
   "execution_count": 73,
   "metadata": {
    "ExecuteTime": {
     "end_time": "2020-12-20T17:04:10.512675Z",
     "start_time": "2020-12-20T17:04:10.356334Z"
    }
   },
   "outputs": [
    {
     "ename": "AssertionError",
     "evalue": "san() and lan() expect move to be legal or null, but got e7e5 in rnbqkbnr/pppp1ppp/8/4p3/4P3/8/PPPP1PPP/RNBQKBNR w KQkq - 0 2",
     "output_type": "error",
     "traceback": [
      "\u001b[1;31m---------------------------------------------------------------------------\u001b[0m",
      "\u001b[1;31mAssertionError\u001b[0m                            Traceback (most recent call last)",
      "\u001b[1;32m<ipython-input-73-9c561ce4f9c7>\u001b[0m in \u001b[0;36m<module>\u001b[1;34m\u001b[0m\n\u001b[1;32m----> 1\u001b[1;33m \u001b[0mgame\u001b[0m\u001b[1;33m.\u001b[0m\u001b[0mboard\u001b[0m\u001b[1;33m.\u001b[0m\u001b[0msan\u001b[0m\u001b[1;33m(\u001b[0m\u001b[0mstack\u001b[0m\u001b[1;33m[\u001b[0m\u001b[1;36m1\u001b[0m\u001b[1;33m]\u001b[0m\u001b[1;33m)\u001b[0m\u001b[1;33m\u001b[0m\u001b[1;33m\u001b[0m\u001b[0m\n\u001b[0m",
      "\u001b[1;32mC:\\ProgramData\\Anaconda3\\lib\\site-packages\\chess\\__init__.py\u001b[0m in \u001b[0;36msan\u001b[1;34m(self, move)\u001b[0m\n\u001b[0;32m   2774\u001b[0m         \u001b[0mof\u001b[0m \u001b[0mthe\u001b[0m \u001b[0mcurrent\u001b[0m \u001b[0mposition\u001b[0m\u001b[1;33m.\u001b[0m\u001b[1;33m\u001b[0m\u001b[1;33m\u001b[0m\u001b[0m\n\u001b[0;32m   2775\u001b[0m         \"\"\"\n\u001b[1;32m-> 2776\u001b[1;33m         \u001b[1;32mreturn\u001b[0m \u001b[0mself\u001b[0m\u001b[1;33m.\u001b[0m\u001b[0m_algebraic\u001b[0m\u001b[1;33m(\u001b[0m\u001b[0mmove\u001b[0m\u001b[1;33m)\u001b[0m\u001b[1;33m\u001b[0m\u001b[1;33m\u001b[0m\u001b[0m\n\u001b[0m\u001b[0;32m   2777\u001b[0m \u001b[1;33m\u001b[0m\u001b[0m\n\u001b[0;32m   2778\u001b[0m     \u001b[1;32mdef\u001b[0m \u001b[0mlan\u001b[0m\u001b[1;33m(\u001b[0m\u001b[0mself\u001b[0m\u001b[1;33m,\u001b[0m \u001b[0mmove\u001b[0m\u001b[1;33m:\u001b[0m \u001b[0mMove\u001b[0m\u001b[1;33m)\u001b[0m \u001b[1;33m->\u001b[0m \u001b[0mstr\u001b[0m\u001b[1;33m:\u001b[0m\u001b[1;33m\u001b[0m\u001b[1;33m\u001b[0m\u001b[0m\n",
      "\u001b[1;32mC:\\ProgramData\\Anaconda3\\lib\\site-packages\\chess\\__init__.py\u001b[0m in \u001b[0;36m_algebraic\u001b[1;34m(self, move, long)\u001b[0m\n\u001b[0;32m   2787\u001b[0m \u001b[1;33m\u001b[0m\u001b[0m\n\u001b[0;32m   2788\u001b[0m     \u001b[1;32mdef\u001b[0m \u001b[0m_algebraic\u001b[0m\u001b[1;33m(\u001b[0m\u001b[0mself\u001b[0m\u001b[1;33m,\u001b[0m \u001b[0mmove\u001b[0m\u001b[1;33m:\u001b[0m \u001b[0mMove\u001b[0m\u001b[1;33m,\u001b[0m \u001b[1;33m*\u001b[0m\u001b[1;33m,\u001b[0m \u001b[0mlong\u001b[0m\u001b[1;33m:\u001b[0m \u001b[0mbool\u001b[0m \u001b[1;33m=\u001b[0m \u001b[1;32mFalse\u001b[0m\u001b[1;33m)\u001b[0m \u001b[1;33m->\u001b[0m \u001b[0mstr\u001b[0m\u001b[1;33m:\u001b[0m\u001b[1;33m\u001b[0m\u001b[1;33m\u001b[0m\u001b[0m\n\u001b[1;32m-> 2789\u001b[1;33m         \u001b[0msan\u001b[0m \u001b[1;33m=\u001b[0m \u001b[0mself\u001b[0m\u001b[1;33m.\u001b[0m\u001b[0m_algebraic_and_push\u001b[0m\u001b[1;33m(\u001b[0m\u001b[0mmove\u001b[0m\u001b[1;33m,\u001b[0m \u001b[0mlong\u001b[0m\u001b[1;33m=\u001b[0m\u001b[0mlong\u001b[0m\u001b[1;33m)\u001b[0m\u001b[1;33m\u001b[0m\u001b[1;33m\u001b[0m\u001b[0m\n\u001b[0m\u001b[0;32m   2790\u001b[0m         \u001b[0mself\u001b[0m\u001b[1;33m.\u001b[0m\u001b[0mpop\u001b[0m\u001b[1;33m(\u001b[0m\u001b[1;33m)\u001b[0m\u001b[1;33m\u001b[0m\u001b[1;33m\u001b[0m\u001b[0m\n\u001b[0;32m   2791\u001b[0m         \u001b[1;32mreturn\u001b[0m \u001b[0msan\u001b[0m\u001b[1;33m\u001b[0m\u001b[1;33m\u001b[0m\u001b[0m\n",
      "\u001b[1;32mC:\\ProgramData\\Anaconda3\\lib\\site-packages\\chess\\__init__.py\u001b[0m in \u001b[0;36m_algebraic_and_push\u001b[1;34m(self, move, long)\u001b[0m\n\u001b[0;32m   2792\u001b[0m \u001b[1;33m\u001b[0m\u001b[0m\n\u001b[0;32m   2793\u001b[0m     \u001b[1;32mdef\u001b[0m \u001b[0m_algebraic_and_push\u001b[0m\u001b[1;33m(\u001b[0m\u001b[0mself\u001b[0m\u001b[1;33m,\u001b[0m \u001b[0mmove\u001b[0m\u001b[1;33m:\u001b[0m \u001b[0mMove\u001b[0m\u001b[1;33m,\u001b[0m \u001b[1;33m*\u001b[0m\u001b[1;33m,\u001b[0m \u001b[0mlong\u001b[0m\u001b[1;33m:\u001b[0m \u001b[0mbool\u001b[0m \u001b[1;33m=\u001b[0m \u001b[1;32mFalse\u001b[0m\u001b[1;33m)\u001b[0m \u001b[1;33m->\u001b[0m \u001b[0mstr\u001b[0m\u001b[1;33m:\u001b[0m\u001b[1;33m\u001b[0m\u001b[1;33m\u001b[0m\u001b[0m\n\u001b[1;32m-> 2794\u001b[1;33m         \u001b[0msan\u001b[0m \u001b[1;33m=\u001b[0m \u001b[0mself\u001b[0m\u001b[1;33m.\u001b[0m\u001b[0m_algebraic_without_suffix\u001b[0m\u001b[1;33m(\u001b[0m\u001b[0mmove\u001b[0m\u001b[1;33m,\u001b[0m \u001b[0mlong\u001b[0m\u001b[1;33m=\u001b[0m\u001b[0mlong\u001b[0m\u001b[1;33m)\u001b[0m\u001b[1;33m\u001b[0m\u001b[1;33m\u001b[0m\u001b[0m\n\u001b[0m\u001b[0;32m   2795\u001b[0m \u001b[1;33m\u001b[0m\u001b[0m\n\u001b[0;32m   2796\u001b[0m         \u001b[1;31m# Look ahead for check or checkmate.\u001b[0m\u001b[1;33m\u001b[0m\u001b[1;33m\u001b[0m\u001b[1;33m\u001b[0m\u001b[0m\n",
      "\u001b[1;32mC:\\ProgramData\\Anaconda3\\lib\\site-packages\\chess\\__init__.py\u001b[0m in \u001b[0;36m_algebraic_without_suffix\u001b[1;34m(self, move, long)\u001b[0m\n\u001b[0;32m   2828\u001b[0m \u001b[1;33m\u001b[0m\u001b[0m\n\u001b[0;32m   2829\u001b[0m         \u001b[0mpiece_type\u001b[0m \u001b[1;33m=\u001b[0m \u001b[0mself\u001b[0m\u001b[1;33m.\u001b[0m\u001b[0mpiece_type_at\u001b[0m\u001b[1;33m(\u001b[0m\u001b[0mmove\u001b[0m\u001b[1;33m.\u001b[0m\u001b[0mfrom_square\u001b[0m\u001b[1;33m)\u001b[0m\u001b[1;33m\u001b[0m\u001b[1;33m\u001b[0m\u001b[0m\n\u001b[1;32m-> 2830\u001b[1;33m         \u001b[1;32massert\u001b[0m \u001b[0mpiece_type\u001b[0m\u001b[1;33m,\u001b[0m \u001b[1;34mf\"san() and lan() expect move to be legal or null, but got {move} in {self.fen()}\"\u001b[0m\u001b[1;33m\u001b[0m\u001b[1;33m\u001b[0m\u001b[0m\n\u001b[0m\u001b[0;32m   2831\u001b[0m         \u001b[0mcapture\u001b[0m \u001b[1;33m=\u001b[0m \u001b[0mself\u001b[0m\u001b[1;33m.\u001b[0m\u001b[0mis_capture\u001b[0m\u001b[1;33m(\u001b[0m\u001b[0mmove\u001b[0m\u001b[1;33m)\u001b[0m\u001b[1;33m\u001b[0m\u001b[1;33m\u001b[0m\u001b[0m\n\u001b[0;32m   2832\u001b[0m \u001b[1;33m\u001b[0m\u001b[0m\n",
      "\u001b[1;31mAssertionError\u001b[0m: san() and lan() expect move to be legal or null, but got e7e5 in rnbqkbnr/pppp1ppp/8/4p3/4P3/8/PPPP1PPP/RNBQKBNR w KQkq - 0 2"
     ]
    }
   ],
   "source": [
    "game.board.san(stack[1])"
   ]
  },
  {
   "cell_type": "code",
   "execution_count": null,
   "metadata": {},
   "outputs": [],
   "source": []
  }
 ],
 "metadata": {
  "kernelspec": {
   "display_name": "Python 3",
   "language": "python",
   "name": "python3"
  },
  "language_info": {
   "codemirror_mode": {
    "name": "ipython",
    "version": 3
   },
   "file_extension": ".py",
   "mimetype": "text/x-python",
   "name": "python",
   "nbconvert_exporter": "python",
   "pygments_lexer": "ipython3",
   "version": "3.7.4"
  },
  "toc": {
   "base_numbering": 1,
   "nav_menu": {},
   "number_sections": true,
   "sideBar": true,
   "skip_h1_title": false,
   "title_cell": "Table of Contents",
   "title_sidebar": "Contents",
   "toc_cell": false,
   "toc_position": {},
   "toc_section_display": true,
   "toc_window_display": true
  }
 },
 "nbformat": 4,
 "nbformat_minor": 4
}
