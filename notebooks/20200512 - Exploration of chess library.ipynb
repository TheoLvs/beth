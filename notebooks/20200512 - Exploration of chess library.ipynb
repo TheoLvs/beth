{
 "cells": [
  {
   "cell_type": "code",
   "execution_count": 1,
   "metadata": {
    "ExecuteTime": {
     "end_time": "2020-12-20T14:04:18.009982Z",
     "start_time": "2020-12-20T14:04:15.925423Z"
    }
   },
   "outputs": [],
   "source": [
    "# Base Data Science snippet\n",
    "import pandas as pd\n",
    "import numpy as np\n",
    "import matplotlib.pyplot as plt\n",
    "import os\n",
    "import time\n",
    "from tqdm import tqdm_notebook\n",
    "\n",
    "%matplotlib inline\n",
    "%load_ext autoreload\n",
    "%autoreload 2\n",
    "\n",
    "from comet_ml import Experiment"
   ]
  },
  {
   "cell_type": "markdown",
   "metadata": {
    "ExecuteTime": {
     "end_time": "2020-12-05T18:47:24.261695Z",
     "start_time": "2020-12-05T18:47:24.179846Z"
    }
   },
   "source": [
    "##### TODO\n",
    "- Test the ``chess`` library\n",
    "    - Convert to numpy array\n",
    "    - Gif \n",
    "- Use pre-existing GameAI\n",
    "- Create GameAI with minimax techniques\n",
    "- Evaluation function for each move\n",
    "- Move recommendation \"à la\" AlphaGo, MCTS ?\n",
    "- Notebook interface to play\n",
    "- Adaptive GameAI\n",
    "\n"
   ]
  },
  {
   "cell_type": "markdown",
   "metadata": {},
   "source": [
    "# Test of the ``chess`` library\n",
    "https://python-chess.readthedocs.io/en/latest/\n",
    "\n"
   ]
  },
  {
   "cell_type": "markdown",
   "metadata": {},
   "source": [
    "# Playground"
   ]
  },
  {
   "cell_type": "code",
   "execution_count": 2,
   "metadata": {
    "ExecuteTime": {
     "end_time": "2020-12-20T14:04:21.276773Z",
     "start_time": "2020-12-20T14:04:21.071361Z"
    }
   },
   "outputs": [],
   "source": [
    "import sys\n",
    "sys.path.append(\"../\")\n",
    "\n",
    "from beth.game import Game\n",
    "from beth.players.random_player import RandomPlayer\n",
    "from beth.players.human_player import HumanPlayer\n",
    "from beth.players.sequence import SequenceGame,SequencePlayer"
   ]
  },
  {
   "cell_type": "code",
   "execution_count": 3,
   "metadata": {
    "ExecuteTime": {
     "end_time": "2020-12-20T13:28:02.613325Z",
     "start_time": "2020-12-20T13:28:02.490323Z"
    }
   },
   "outputs": [],
   "source": [
    "# black = RandomPlayer()\n",
    "# white = RandomPlayer()\n",
    "\n",
    "white = HumanPlayer()\n",
    "black = HumanPlayer()\n",
    "\n",
    "game = Game(white,black)"
   ]
  },
  {
   "cell_type": "code",
   "execution_count": 131,
   "metadata": {
    "ExecuteTime": {
     "end_time": "2020-12-20T12:11:51.629204Z",
     "start_time": "2020-12-20T12:10:06.971703Z"
    }
   },
   "outputs": [
    {
     "data": {
      "application/vnd.jupyter.widget-view+json": {
       "model_id": "a174e6ae83fc40c784bab2a4c3d23d48",
       "version_major": 2,
       "version_minor": 0
      },
      "text/plain": [
       "Output()"
      ]
     },
     "metadata": {},
     "output_type": "display_data"
    },
    {
     "name": "stdout",
     "output_type": "stream",
     "text": [
      "WHITE move: e4\n",
      "BLACK move: e5\n",
      "WHITE move: Nf3\n",
      "BLACK move: Nf6\n",
      "WHITE move: exit\n"
     ]
    }
   ],
   "source": [
    "game.reset_game()\n",
    "game.run()"
   ]
  },
  {
   "cell_type": "code",
   "execution_count": 5,
   "metadata": {
    "ExecuteTime": {
     "end_time": "2020-12-19T14:06:43.985928Z",
     "start_time": "2020-12-19T14:06:43.867246Z"
    }
   },
   "outputs": [
    {
     "data": {
      "text/plain": [
       "True"
      ]
     },
     "execution_count": 5,
     "metadata": {},
     "output_type": "execute_result"
    }
   ],
   "source": [
    "game.board.is_seventyfive_moves()"
   ]
  },
  {
   "cell_type": "markdown",
   "metadata": {},
   "source": [
    "# Game exploration"
   ]
  },
  {
   "cell_type": "code",
   "execution_count": 3,
   "metadata": {
    "ExecuteTime": {
     "end_time": "2020-12-20T13:20:09.675900Z",
     "start_time": "2020-12-20T13:20:09.465101Z"
    }
   },
   "outputs": [],
   "source": [
    "games = pd.read_csv(\"../data/raw/kaggle/games.csv\")"
   ]
  },
  {
   "cell_type": "code",
   "execution_count": 4,
   "metadata": {
    "ExecuteTime": {
     "end_time": "2020-12-20T13:20:10.579873Z",
     "start_time": "2020-12-20T13:20:10.478384Z"
    }
   },
   "outputs": [
    {
     "data": {
      "text/plain": [
       "(20058, 16)"
      ]
     },
     "execution_count": 4,
     "metadata": {},
     "output_type": "execute_result"
    }
   ],
   "source": [
    "games.shape"
   ]
  },
  {
   "cell_type": "code",
   "execution_count": 5,
   "metadata": {
    "ExecuteTime": {
     "end_time": "2020-12-20T13:21:14.568310Z",
     "start_time": "2020-12-20T13:21:14.435926Z"
    }
   },
   "outputs": [
    {
     "data": {
      "text/plain": [
       "0    start d4 d5 c4 c6 cxd5 e6 dxe6 fxe6 Nf3 Bb4+ N...\n",
       "1    start d4 Nc6 e4 e5 f4 f6 dxe5 fxe5 fxe5 Nxe5 Q...\n",
       "2    start e4 e5 d3 d6 Be3 c6 Be2 b5 Nd2 a5 a4 c5 a...\n",
       "3    start d4 d5 Nf3 Bf5 Nc3 Nf6 Bf4 Ng4 e3 Nc6 Be2...\n",
       "4    start e4 e5 Nf3 d6 d4 Nc6 d5 Nb4 a3 Na6 Nc3 Be...\n",
       "Name: moves, dtype: object"
      ]
     },
     "execution_count": 5,
     "metadata": {},
     "output_type": "execute_result"
    }
   ],
   "source": [
    "\"start \" + games[\"moves\"].head()"
   ]
  },
  {
   "cell_type": "code",
   "execution_count": 6,
   "metadata": {
    "ExecuteTime": {
     "end_time": "2020-12-20T13:21:15.219644Z",
     "start_time": "2020-12-20T13:21:15.125937Z"
    }
   },
   "outputs": [],
   "source": [
    "game = games.iloc[2]\n",
    "\n",
    "seq_str = game[\"moves\"]\n",
    "winner = game[\"winner\"]\n",
    "victory_status = game[\"victory_status\"]"
   ]
  },
  {
   "cell_type": "code",
   "execution_count": 7,
   "metadata": {
    "ExecuteTime": {
     "end_time": "2020-12-20T13:21:16.753969Z",
     "start_time": "2020-12-20T13:21:16.654757Z"
    }
   },
   "outputs": [
    {
     "data": {
      "text/plain": [
       "'e4 e5 d3 d6 Be3 c6 Be2 b5 Nd2 a5 a4 c5 axb5 Nc6 bxc6 Ra6 Nc4 a4 c3 a3 Nxa3 Rxa3 Rxa3 c4 dxc4 d5 cxd5 Qxd5 exd5 Be6 Ra8+ Ke7 Bc5+ Kf6 Bxf8 Kg6 Bxg7 Kxg7 dxe6 Kh6 exf7 Nf6 Rxh8 Nh5 Bxh5 Kg5 Rxh7 Kf5 Qf3+ Ke6 Bg4+ Kd6 Rh6+ Kc5 Qe3+ Kb5 c4+ Kb4 Qc3+ Ka4 Bd1#'"
      ]
     },
     "execution_count": 7,
     "metadata": {},
     "output_type": "execute_result"
    }
   ],
   "source": [
    "seq = SequenceGame(seq_str,0.1,victory_status,winner)\n",
    "game = Game(seq.white,seq.black)\n",
    "seq_str"
   ]
  },
  {
   "cell_type": "code",
   "execution_count": 8,
   "metadata": {
    "ExecuteTime": {
     "end_time": "2020-12-20T13:21:17.217286Z",
     "start_time": "2020-12-20T13:21:17.108796Z"
    }
   },
   "outputs": [
    {
     "data": {
      "text/plain": [
       "'mate'"
      ]
     },
     "execution_count": 8,
     "metadata": {},
     "output_type": "execute_result"
    }
   ],
   "source": [
    "seq.victory_status"
   ]
  },
  {
   "cell_type": "code",
   "execution_count": 9,
   "metadata": {
    "ExecuteTime": {
     "end_time": "2020-12-20T13:21:25.260843Z",
     "start_time": "2020-12-20T13:21:17.683186Z"
    }
   },
   "outputs": [
    {
     "data": {
      "application/vnd.jupyter.widget-view+json": {
       "model_id": "e63edc214c5642c79543cda02ed92ff5",
       "version_major": 2,
       "version_minor": 0
      },
      "text/plain": [
       "Output()"
      ]
     },
     "metadata": {},
     "output_type": "display_data"
    }
   ],
   "source": [
    "game.run()"
   ]
  },
  {
   "cell_type": "markdown",
   "metadata": {},
   "source": [
    "https://pytorch.org/tutorials/beginner/transformer_tutorial.html"
   ]
  },
  {
   "cell_type": "markdown",
   "metadata": {},
   "source": [
    "# Experiment 1 using LSTMs\n",
    "https://www.kdnuggets.com/2020/07/pytorch-lstm-text-generation-tutorial.html"
   ]
  },
  {
   "cell_type": "code",
   "execution_count": 3,
   "metadata": {
    "ExecuteTime": {
     "end_time": "2020-12-20T14:04:25.634656Z",
     "start_time": "2020-12-20T14:04:25.083016Z"
    }
   },
   "outputs": [],
   "source": [
    "from beth.models.dataset import Dataset\n",
    "from beth.utils import make_experiment\n",
    "from beth.models.lstm import LSTMModel"
   ]
  },
  {
   "cell_type": "markdown",
   "metadata": {},
   "source": [
    "## Init classes"
   ]
  },
  {
   "cell_type": "code",
   "execution_count": 4,
   "metadata": {
    "ExecuteTime": {
     "end_time": "2020-12-20T14:04:30.197553Z",
     "start_time": "2020-12-20T14:04:29.915398Z"
    }
   },
   "outputs": [
    {
     "data": {
      "text/plain": [
       "0    start d4 d5 c4 c6 cxd5 e6 dxe6 fxe6 Nf3 Bb4+ N...\n",
       "1    start d4 Nc6 e4 e5 f4 f6 dxe5 fxe5 fxe5 Nxe5 Q...\n",
       "2    start e4 e5 d3 d6 Be3 c6 Be2 b5 Nd2 a5 a4 c5 a...\n",
       "3    start d4 d5 Nf3 Bf5 Nc3 Nf6 Bf4 Ng4 e3 Nc6 Be2...\n",
       "4    start e4 e5 Nf3 d6 d4 Nc6 d5 Nb4 a3 Na6 Nc3 Be...\n",
       "Name: moves, dtype: object"
      ]
     },
     "execution_count": 4,
     "metadata": {},
     "output_type": "execute_result"
    }
   ],
   "source": [
    "games = pd.read_csv(\"../data/raw/kaggle/games.csv\")\n",
    "moves = \"start \" + games[\"moves\"]\n",
    "moves.head()"
   ]
  },
  {
   "cell_type": "code",
   "execution_count": 5,
   "metadata": {
    "ExecuteTime": {
     "end_time": "2020-12-20T14:04:31.632235Z",
     "start_time": "2020-12-20T14:04:31.202331Z"
    }
   },
   "outputs": [],
   "source": [
    "dataset = Dataset(moves)"
   ]
  },
  {
   "cell_type": "code",
   "execution_count": 6,
   "metadata": {
    "ExecuteTime": {
     "end_time": "2020-12-20T14:04:31.790697Z",
     "start_time": "2020-12-20T14:04:31.635022Z"
    }
   },
   "outputs": [
    {
     "data": {
      "text/plain": [
       "4448"
      ]
     },
     "execution_count": 6,
     "metadata": {},
     "output_type": "execute_result"
    }
   ],
   "source": [
    "len(dataset.uniq_words)"
   ]
  },
  {
   "cell_type": "markdown",
   "metadata": {},
   "source": [
    "## Train loop"
   ]
  },
  {
   "cell_type": "code",
   "execution_count": 37,
   "metadata": {
    "ExecuteTime": {
     "end_time": "2020-12-20T16:15:17.670490Z",
     "start_time": "2020-12-20T16:15:10.215413Z"
    }
   },
   "outputs": [
    {
     "name": "stderr",
     "output_type": "stream",
     "text": [
      "COMET INFO: Experiment is live on comet.ml https://www.comet.ml/theolvs/beth/2f28f4cbecb646179c6a3d4a0ca2b444\n",
      "\n"
     ]
    }
   ],
   "source": [
    "experiment = make_experiment(\"../.env\",\"Simple LSTM\",[\"NLP\",\"LSTM\"])"
   ]
  },
  {
   "cell_type": "code",
   "execution_count": 38,
   "metadata": {
    "ExecuteTime": {
     "end_time": "2020-12-20T16:15:19.723669Z",
     "start_time": "2020-12-20T16:15:19.587070Z"
    }
   },
   "outputs": [],
   "source": [
    "params = {\n",
    "    \"sequence_length\":10,\n",
    "    \"batch_size\":32,\n",
    "    \"max_epochs\":1,\n",
    "    \"lr\":0.01,\n",
    "    \"lstm_size\":128,\n",
    "    \"embedding_dim\":128,\n",
    "    \"num_layers\":3,\n",
    "}"
   ]
  },
  {
   "cell_type": "code",
   "execution_count": 39,
   "metadata": {
    "ExecuteTime": {
     "end_time": "2020-12-20T16:15:23.110761Z",
     "start_time": "2020-12-20T16:15:22.973014Z"
    }
   },
   "outputs": [],
   "source": [
    "model = LSTMModel(dataset,**params)"
   ]
  },
  {
   "cell_type": "code",
   "execution_count": null,
   "metadata": {
    "ExecuteTime": {
     "start_time": "2020-12-20T16:15:28.467Z"
    }
   },
   "outputs": [
    {
     "data": {
      "application/vnd.jupyter.widget-view+json": {
       "model_id": "8d2f25ef60ce4acc87ddc83eb2fc64e2",
       "version_major": 2,
       "version_minor": 0
      },
      "text/plain": [
       "HBox(children=(FloatProgress(value=0.0, description='Epoch 0', max=38528.0, style=ProgressStyle(description_wi…"
      ]
     },
     "metadata": {},
     "output_type": "display_data"
    }
   ],
   "source": [
    "experiment.log_parameters(params)\n",
    "model.fit(**params)\n",
    "# experiment.end()"
   ]
  },
  {
   "cell_type": "code",
   "execution_count": 32,
   "metadata": {
    "ExecuteTime": {
     "end_time": "2020-12-20T16:06:10.167998Z",
     "start_time": "2020-12-20T16:06:10.023385Z"
    }
   },
   "outputs": [
    {
     "data": {
      "text/plain": [
       "{'web': 'https://www.comet.ml/api/asset/download?assetId=e21af61a5b7a4c1fbe430b99569c8d9e&experimentKey=dd08972e62dc4c19b9ab53d1209af2d6',\n",
       " 'api': 'https://www.comet.ml/api/rest/v2/experiment/asset/get-asset?assetId=e21af61a5b7a4c1fbe430b99569c8d9e&experimentKey=dd08972e62dc4c19b9ab53d1209af2d6',\n",
       " 'assetId': 'e21af61a5b7a4c1fbe430b99569c8d9e'}"
      ]
     },
     "execution_count": 32,
     "metadata": {},
     "output_type": "execute_result"
    }
   ],
   "source": [
    "experiment.log_text(\"With more embeddings and layers, it just take too much time to learn anything\")"
   ]
  },
  {
   "cell_type": "code",
   "execution_count": 35,
   "metadata": {
    "ExecuteTime": {
     "end_time": "2020-12-20T16:14:13.819654Z",
     "start_time": "2020-12-20T16:14:13.593681Z"
    }
   },
   "outputs": [],
   "source": [
    "import torch\n",
    "\n",
    "torch.save(model.state_dict(),\"experiment.pth\")"
   ]
  },
  {
   "cell_type": "code",
   "execution_count": 36,
   "metadata": {
    "ExecuteTime": {
     "end_time": "2020-12-20T16:14:17.429885Z",
     "start_time": "2020-12-20T16:14:17.171580Z"
    }
   },
   "outputs": [],
   "source": [
    "!start ."
   ]
  },
  {
   "cell_type": "code",
   "execution_count": 33,
   "metadata": {
    "ExecuteTime": {
     "end_time": "2020-12-20T16:12:18.141543Z",
     "start_time": "2020-12-20T16:12:15.048383Z"
    }
   },
   "outputs": [
    {
     "name": "stderr",
     "output_type": "stream",
     "text": [
      "COMET INFO: ---------------------------\n",
      "COMET INFO: Comet.ml Experiment Summary\n",
      "COMET INFO: ---------------------------\n",
      "COMET INFO:   Data:\n",
      "COMET INFO:     display_summary_level : 1\n",
      "COMET INFO:     url                   : https://www.comet.ml/theolvs/beth/dd08972e62dc4c19b9ab53d1209af2d6\n",
      "COMET INFO:   Metrics [count] (min, max):\n",
      "COMET INFO:     loss [727] : (5.02025842666626, 8.408011436462402)\n",
      "COMET INFO:   Others:\n",
      "COMET INFO:     Name : Simple LSTM\n",
      "COMET INFO:   Parameters:\n",
      "COMET INFO:     batch_size      : 32\n",
      "COMET INFO:     embedding_dim   : 256\n",
      "COMET INFO:     lr              : 0.001\n",
      "COMET INFO:     lstm_size       : 256\n",
      "COMET INFO:     max_epochs      : 1\n",
      "COMET INFO:     num_layers      : 5\n",
      "COMET INFO:     sequence_length : 10\n",
      "COMET INFO:   Uploads:\n",
      "COMET INFO:     code                     : 1 (2 KB)\n",
      "COMET INFO:     environment details      : 1\n",
      "COMET INFO:     filename                 : 1\n",
      "COMET INFO:     git metadata             : 1\n",
      "COMET INFO:     git-patch (uncompressed) : 1 (14 MB)\n",
      "COMET INFO:     installed packages       : 1\n",
      "COMET INFO:     model graph              : 1\n",
      "COMET INFO:     notebook                 : 1\n",
      "COMET INFO:     text-sample              : 1\n",
      "COMET INFO: ---------------------------\n",
      "COMET INFO: Still uploading\n"
     ]
    }
   ],
   "source": [
    "experiment.end()"
   ]
  },
  {
   "cell_type": "code",
   "execution_count": 26,
   "metadata": {
    "ExecuteTime": {
     "end_time": "2020-12-20T15:16:01.789771Z",
     "start_time": "2020-12-20T15:16:01.455667Z"
    }
   },
   "outputs": [],
   "source": [
    "p = model.predict(\"start e4\",10,as_proba = True)"
   ]
  },
  {
   "cell_type": "code",
   "execution_count": 27,
   "metadata": {
    "ExecuteTime": {
     "end_time": "2020-12-20T15:16:02.274774Z",
     "start_time": "2020-12-20T15:16:02.114993Z"
    }
   },
   "outputs": [
    {
     "data": {
      "text/plain": [
       "dxe4     0.081799\n",
       "fxe4     0.044852\n",
       "Nxe4     0.036191\n",
       "Bxe4     0.028277\n",
       "start    0.020529\n",
       "Qxe4     0.020383\n",
       "Rxe4     0.017424\n",
       "f3       0.013124\n",
       "f5       0.009175\n",
       "Nd4      0.008905\n",
       "Name: 0, dtype: float64"
      ]
     },
     "execution_count": 27,
     "metadata": {},
     "output_type": "execute_result"
    }
   ],
   "source": [
    "p[0].sort_values(ascending = False).head(10)"
   ]
  },
  {
   "cell_type": "code",
   "execution_count": 92,
   "metadata": {
    "ExecuteTime": {
     "end_time": "2020-12-19T21:11:10.769312Z",
     "start_time": "2020-12-19T21:11:10.513927Z"
    }
   },
   "outputs": [],
   "source": [
    "# black = RandomPlayer()\n",
    "# white = RandomPlayer()\n",
    "\n",
    "white = HumanPlayer()\n",
    "black = HumanPlayer()\n",
    "\n",
    "game = Game(white,black)"
   ]
  },
  {
   "cell_type": "code",
   "execution_count": 93,
   "metadata": {
    "ExecuteTime": {
     "end_time": "2020-12-19T21:11:35.745374Z",
     "start_time": "2020-12-19T21:11:11.955062Z"
    }
   },
   "outputs": [
    {
     "data": {
      "application/vnd.jupyter.widget-view+json": {
       "model_id": "0a17ab2768ca4e03a8645c93c9aceff9",
       "version_major": 2,
       "version_minor": 0
      },
      "text/plain": [
       "Output()"
      ]
     },
     "metadata": {},
     "output_type": "display_data"
    },
    {
     "name": "stdout",
     "output_type": "stream",
     "text": [
      "WHITE move: a4\n",
      "BLACK move: e5\n",
      "WHITE move: Nf3\n",
      "BLACK move: Nc6\n",
      "WHITE move: Bc4\n"
     ]
    }
   ],
   "source": [
    "game.run()"
   ]
  },
  {
   "cell_type": "code",
   "execution_count": null,
   "metadata": {},
   "outputs": [],
   "source": []
  }
 ],
 "metadata": {
  "kernelspec": {
   "display_name": "Python 3",
   "language": "python",
   "name": "python3"
  },
  "language_info": {
   "codemirror_mode": {
    "name": "ipython",
    "version": 3
   },
   "file_extension": ".py",
   "mimetype": "text/x-python",
   "name": "python",
   "nbconvert_exporter": "python",
   "pygments_lexer": "ipython3",
   "version": "3.7.4"
  },
  "toc": {
   "base_numbering": 1,
   "nav_menu": {},
   "number_sections": true,
   "sideBar": true,
   "skip_h1_title": false,
   "title_cell": "Table of Contents",
   "title_sidebar": "Contents",
   "toc_cell": false,
   "toc_position": {},
   "toc_section_display": true,
   "toc_window_display": true
  }
 },
 "nbformat": 4,
 "nbformat_minor": 4
}
