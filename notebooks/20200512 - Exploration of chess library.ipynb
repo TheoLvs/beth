{
 "cells": [
  {
   "cell_type": "code",
   "execution_count": 1,
   "metadata": {
    "ExecuteTime": {
     "end_time": "2020-12-10T00:34:42.323171Z",
     "start_time": "2020-12-10T00:34:39.444854Z"
    }
   },
   "outputs": [],
   "source": [
    "# Base Data Science snippet\n",
    "import pandas as pd\n",
    "import numpy as np\n",
    "import matplotlib.pyplot as plt\n",
    "import os\n",
    "import time\n",
    "from tqdm import tqdm_notebook\n",
    "\n",
    "%matplotlib inline\n",
    "%load_ext autoreload\n",
    "%autoreload 2"
   ]
  },
  {
   "cell_type": "markdown",
   "metadata": {
    "ExecuteTime": {
     "end_time": "2020-12-05T18:47:24.261695Z",
     "start_time": "2020-12-05T18:47:24.179846Z"
    }
   },
   "source": [
    "##### TODO\n",
    "- Test the ``chess`` library\n",
    "    - Convert to numpy array\n",
    "    - Gif \n",
    "- Use pre-existing GameAI\n",
    "- Create GameAI with minimax techniques\n",
    "- Evaluation function for each move\n",
    "- Move recommendation \"à la\" AlphaGo, MCTS ?\n",
    "- Notebook interface to play\n",
    "- Adaptive GameAI\n",
    "\n"
   ]
  },
  {
   "cell_type": "markdown",
   "metadata": {},
   "source": [
    "# Test of the ``chess`` library\n",
    "https://python-chess.readthedocs.io/en/latest/\n",
    "\n"
   ]
  },
  {
   "cell_type": "markdown",
   "metadata": {},
   "source": [
    "# Playground"
   ]
  },
  {
   "cell_type": "code",
   "execution_count": 2,
   "metadata": {
    "ExecuteTime": {
     "end_time": "2020-12-10T00:34:43.400726Z",
     "start_time": "2020-12-10T00:34:43.211877Z"
    }
   },
   "outputs": [],
   "source": [
    "import sys\n",
    "sys.path.append(\"../\")\n",
    "\n",
    "from beth.game import Game\n",
    "from beth.players.random_player import RandomPlayer\n",
    "from beth.players.human_player import HumanPlayer\n",
    "from beth.players.sequence import SequenceGame,SequencePlayer"
   ]
  },
  {
   "cell_type": "code",
   "execution_count": 3,
   "metadata": {
    "ExecuteTime": {
     "end_time": "2020-12-10T00:34:44.674235Z",
     "start_time": "2020-12-10T00:34:44.564555Z"
    }
   },
   "outputs": [],
   "source": [
    "black = RandomPlayer()\n",
    "white = RandomPlayer()\n",
    "\n",
    "# white = HumanPlayer()\n",
    "# black = HumanPlayer()\n",
    "\n",
    "game = Game(white,black)"
   ]
  },
  {
   "cell_type": "code",
   "execution_count": 4,
   "metadata": {
    "ExecuteTime": {
     "end_time": "2020-12-10T00:34:49.752569Z",
     "start_time": "2020-12-10T00:34:44.862337Z"
    }
   },
   "outputs": [
    {
     "data": {
      "application/vnd.jupyter.widget-view+json": {
       "model_id": "ccf1b2ea28294548992f8efef41ca482",
       "version_major": 2,
       "version_minor": 0
      },
      "text/plain": [
       "Output()"
      ]
     },
     "metadata": {},
     "output_type": "display_data"
    }
   ],
   "source": [
    "game.reset_game()\n",
    "game.run()"
   ]
  },
  {
   "cell_type": "code",
   "execution_count": 45,
   "metadata": {
    "ExecuteTime": {
     "end_time": "2020-12-06T15:44:03.495798Z",
     "start_time": "2020-12-06T15:44:03.403045Z"
    }
   },
   "outputs": [
    {
     "data": {
      "text/plain": [
       "True"
      ]
     },
     "execution_count": 45,
     "metadata": {},
     "output_type": "execute_result"
    }
   ],
   "source": [
    "game.board.is_seventyfive_moves()"
   ]
  },
  {
   "cell_type": "markdown",
   "metadata": {},
   "source": [
    "# Game exploration"
   ]
  },
  {
   "cell_type": "code",
   "execution_count": 5,
   "metadata": {
    "ExecuteTime": {
     "end_time": "2020-12-10T00:34:57.415293Z",
     "start_time": "2020-12-10T00:34:57.195279Z"
    }
   },
   "outputs": [],
   "source": [
    "games = pd.read_csv(\"../data/raw/kaggle/games.csv\")"
   ]
  },
  {
   "cell_type": "code",
   "execution_count": 6,
   "metadata": {
    "ExecuteTime": {
     "end_time": "2020-12-10T00:34:57.552416Z",
     "start_time": "2020-12-10T00:34:57.461655Z"
    }
   },
   "outputs": [
    {
     "data": {
      "text/plain": [
       "(20058, 16)"
      ]
     },
     "execution_count": 6,
     "metadata": {},
     "output_type": "execute_result"
    }
   ],
   "source": [
    "games.shape"
   ]
  },
  {
   "cell_type": "code",
   "execution_count": 7,
   "metadata": {
    "ExecuteTime": {
     "end_time": "2020-12-10T00:34:57.850170Z",
     "start_time": "2020-12-10T00:34:57.753332Z"
    }
   },
   "outputs": [
    {
     "data": {
      "text/plain": [
       "0    d4 d5 c4 c6 cxd5 e6 dxe6 fxe6 Nf3 Bb4+ Nc3 Ba5...\n",
       "1    d4 Nc6 e4 e5 f4 f6 dxe5 fxe5 fxe5 Nxe5 Qd4 Nc6...\n",
       "2    e4 e5 d3 d6 Be3 c6 Be2 b5 Nd2 a5 a4 c5 axb5 Nc...\n",
       "3    d4 d5 Nf3 Bf5 Nc3 Nf6 Bf4 Ng4 e3 Nc6 Be2 Qd7 O...\n",
       "4    e4 e5 Nf3 d6 d4 Nc6 d5 Nb4 a3 Na6 Nc3 Be7 b4 N...\n",
       "Name: moves, dtype: object"
      ]
     },
     "execution_count": 7,
     "metadata": {},
     "output_type": "execute_result"
    }
   ],
   "source": [
    "games[\"moves\"].head()"
   ]
  },
  {
   "cell_type": "code",
   "execution_count": 8,
   "metadata": {
    "ExecuteTime": {
     "end_time": "2020-12-10T00:34:58.170593Z",
     "start_time": "2020-12-10T00:34:58.075236Z"
    }
   },
   "outputs": [],
   "source": [
    "game = games.iloc[2]\n",
    "\n",
    "seq_str = game[\"moves\"]\n",
    "winner = game[\"winner\"]\n",
    "victory_status = game[\"victory_status\"]"
   ]
  },
  {
   "cell_type": "code",
   "execution_count": 9,
   "metadata": {
    "ExecuteTime": {
     "end_time": "2020-12-10T00:34:58.636676Z",
     "start_time": "2020-12-10T00:34:58.541910Z"
    }
   },
   "outputs": [
    {
     "data": {
      "text/plain": [
       "'e4 e5 d3 d6 Be3 c6 Be2 b5 Nd2 a5 a4 c5 axb5 Nc6 bxc6 Ra6 Nc4 a4 c3 a3 Nxa3 Rxa3 Rxa3 c4 dxc4 d5 cxd5 Qxd5 exd5 Be6 Ra8+ Ke7 Bc5+ Kf6 Bxf8 Kg6 Bxg7 Kxg7 dxe6 Kh6 exf7 Nf6 Rxh8 Nh5 Bxh5 Kg5 Rxh7 Kf5 Qf3+ Ke6 Bg4+ Kd6 Rh6+ Kc5 Qe3+ Kb5 c4+ Kb4 Qc3+ Ka4 Bd1#'"
      ]
     },
     "execution_count": 9,
     "metadata": {},
     "output_type": "execute_result"
    }
   ],
   "source": [
    "seq = SequenceGame(seq_str,0.1,victory_status,winner)\n",
    "game = Game(seq.white,seq.black)\n",
    "seq_str"
   ]
  },
  {
   "cell_type": "code",
   "execution_count": 10,
   "metadata": {
    "ExecuteTime": {
     "end_time": "2020-12-10T00:34:59.854812Z",
     "start_time": "2020-12-10T00:34:59.751903Z"
    }
   },
   "outputs": [
    {
     "data": {
      "text/plain": [
       "'mate'"
      ]
     },
     "execution_count": 10,
     "metadata": {},
     "output_type": "execute_result"
    }
   ],
   "source": [
    "seq.victory_status"
   ]
  },
  {
   "cell_type": "code",
   "execution_count": 109,
   "metadata": {
    "ExecuteTime": {
     "end_time": "2020-12-06T18:26:17.246262Z",
     "start_time": "2020-12-06T18:26:08.959786Z"
    }
   },
   "outputs": [
    {
     "data": {
      "application/vnd.jupyter.widget-view+json": {
       "model_id": "23effeb632ab4bafb2c3d518e7bafc08",
       "version_major": 2,
       "version_minor": 0
      },
      "text/plain": [
       "Output()"
      ]
     },
     "metadata": {},
     "output_type": "display_data"
    }
   ],
   "source": [
    "game.run()"
   ]
  },
  {
   "cell_type": "markdown",
   "metadata": {},
   "source": [
    "https://pytorch.org/tutorials/beginner/transformer_tutorial.html"
   ]
  },
  {
   "cell_type": "code",
   "execution_count": null,
   "metadata": {},
   "outputs": [],
   "source": []
  }
 ],
 "metadata": {
  "kernelspec": {
   "display_name": "Python 3",
   "language": "python",
   "name": "python3"
  },
  "language_info": {
   "codemirror_mode": {
    "name": "ipython",
    "version": 3
   },
   "file_extension": ".py",
   "mimetype": "text/x-python",
   "name": "python",
   "nbconvert_exporter": "python",
   "pygments_lexer": "ipython3",
   "version": "3.7.4"
  },
  "toc": {
   "base_numbering": 1,
   "nav_menu": {},
   "number_sections": true,
   "sideBar": true,
   "skip_h1_title": false,
   "title_cell": "Table of Contents",
   "title_sidebar": "Contents",
   "toc_cell": false,
   "toc_position": {},
   "toc_section_display": true,
   "toc_window_display": true
  }
 },
 "nbformat": 4,
 "nbformat_minor": 4
}
