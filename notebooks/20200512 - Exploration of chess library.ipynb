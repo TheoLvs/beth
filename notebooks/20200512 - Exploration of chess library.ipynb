{
 "cells": [
  {
   "cell_type": "code",
   "execution_count": 1,
   "metadata": {
    "ExecuteTime": {
     "end_time": "2020-12-06T14:08:28.396753Z",
     "start_time": "2020-12-06T14:08:27.545120Z"
    }
   },
   "outputs": [],
   "source": [
    "# Base Data Science snippet\n",
    "import pandas as pd\n",
    "import numpy as np\n",
    "import matplotlib.pyplot as plt\n",
    "import os\n",
    "import time\n",
    "from tqdm import tqdm_notebook\n",
    "\n",
    "%matplotlib inline\n",
    "%load_ext autoreload\n",
    "%autoreload 2"
   ]
  },
  {
   "cell_type": "markdown",
   "metadata": {
    "ExecuteTime": {
     "end_time": "2020-12-05T18:47:24.261695Z",
     "start_time": "2020-12-05T18:47:24.179846Z"
    }
   },
   "source": [
    "##### TODO\n",
    "- Test the ``chess`` library\n",
    "    - Convert to numpy array\n",
    "    - Gif \n",
    "- Use pre-existing GameAI\n",
    "- Create GameAI with minimax techniques\n",
    "- Evaluation function for each move\n",
    "- Move recommendation \"à la\" AlphaGo, MCTS ?\n",
    "- Notebook interface to play\n",
    "- Adaptive GameAI\n",
    "\n"
   ]
  },
  {
   "cell_type": "markdown",
   "metadata": {},
   "source": [
    "# Test of the ``chess`` library\n",
    "https://python-chess.readthedocs.io/en/latest/\n",
    "\n"
   ]
  },
  {
   "cell_type": "markdown",
   "metadata": {},
   "source": [
    "# Playground"
   ]
  },
  {
   "cell_type": "code",
   "execution_count": 38,
   "metadata": {
    "ExecuteTime": {
     "end_time": "2020-12-06T15:41:33.202268Z",
     "start_time": "2020-12-06T15:41:33.127467Z"
    }
   },
   "outputs": [],
   "source": [
    "import sys\n",
    "sys.path.append(\"../\")\n",
    "\n",
    "from beth.game import Game\n",
    "from beth.players.random_player import RandomPlayer\n",
    "from beth.players.human_player import HumanPlayer\n"
   ]
  },
  {
   "cell_type": "code",
   "execution_count": 39,
   "metadata": {
    "ExecuteTime": {
     "end_time": "2020-12-06T15:41:35.079450Z",
     "start_time": "2020-12-06T15:41:34.994241Z"
    }
   },
   "outputs": [],
   "source": [
    "black = RandomPlayer()\n",
    "white = RandomPlayer()\n",
    "\n",
    "# white = HumanPlayer()\n",
    "# black = HumanPlayer()\n",
    "\n",
    "game = Game(white,black)"
   ]
  },
  {
   "cell_type": "code",
   "execution_count": 40,
   "metadata": {
    "ExecuteTime": {
     "end_time": "2020-12-06T15:41:41.510671Z",
     "start_time": "2020-12-06T15:41:38.763980Z"
    }
   },
   "outputs": [
    {
     "data": {
      "application/vnd.jupyter.widget-view+json": {
       "model_id": "03276cac89e54dfe92cfb0305a20f319",
       "version_major": 2,
       "version_minor": 0
      },
      "text/plain": [
       "Output()"
      ]
     },
     "metadata": {},
     "output_type": "display_data"
    }
   ],
   "source": [
    "game.reset_game()\n",
    "game.run()"
   ]
  },
  {
   "cell_type": "code",
   "execution_count": null,
   "metadata": {},
   "outputs": [],
   "source": []
  }
 ],
 "metadata": {
  "kernelspec": {
   "display_name": "Python 3",
   "language": "python",
   "name": "python3"
  },
  "language_info": {
   "codemirror_mode": {
    "name": "ipython",
    "version": 3
   },
   "file_extension": ".py",
   "mimetype": "text/x-python",
   "name": "python",
   "nbconvert_exporter": "python",
   "pygments_lexer": "ipython3",
   "version": "3.7.4"
  },
  "toc": {
   "base_numbering": 1,
   "nav_menu": {},
   "number_sections": true,
   "sideBar": true,
   "skip_h1_title": false,
   "title_cell": "Table of Contents",
   "title_sidebar": "Contents",
   "toc_cell": false,
   "toc_position": {},
   "toc_section_display": true,
   "toc_window_display": true
  }
 },
 "nbformat": 4,
 "nbformat_minor": 4
}
